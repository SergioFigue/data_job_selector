{
 "cells": [
  {
   "cell_type": "code",
   "execution_count": 1,
   "metadata": {},
   "outputs": [],
   "source": [
    "import pandas as pd\n",
    "import sqlalchemy\n",
    "import sqlite3\n",
    "import requests\n",
    "from bs4 import BeautifulSoup\n",
    "import re\n",
    "import json"
   ]
  },
  {
   "cell_type": "code",
   "execution_count": 2,
   "metadata": {},
   "outputs": [],
   "source": [
    "data = pd.read_csv('../data/processed/glob_data.csv')"
   ]
  },
  {
   "cell_type": "code",
   "execution_count": 3,
   "metadata": {},
   "outputs": [],
   "source": [
    "def transform_data(data):\n",
    "    relevant_data = data[['uuid', 'age', 'country_code', 'normalized_job_code']]\n",
    "    relevant_data = relevant_data[relevant_data['normalized_job_code'].notna()]\n",
    "    relevant_data['Quantity'] = relevant_data.groupby('normalized_job_code')['normalized_job_code'].transform('count')\n",
    "    #relevant_data.rename(columns={'age': 'Age', 'country_code': 'Country', 'normalized_job_code': 'Job Title'},\n",
    "     #                  inplace=True)\n",
    "    return relevant_data"
   ]
  },
  {
   "cell_type": "code",
   "execution_count": 4,
   "metadata": {},
   "outputs": [
    {
     "data": {
      "text/html": [
       "<div>\n",
       "<style scoped>\n",
       "    .dataframe tbody tr th:only-of-type {\n",
       "        vertical-align: middle;\n",
       "    }\n",
       "\n",
       "    .dataframe tbody tr th {\n",
       "        vertical-align: top;\n",
       "    }\n",
       "\n",
       "    .dataframe thead th {\n",
       "        text-align: right;\n",
       "    }\n",
       "</style>\n",
       "<table border=\"1\" class=\"dataframe\">\n",
       "  <thead>\n",
       "    <tr style=\"text-align: right;\">\n",
       "      <th></th>\n",
       "      <th>uuid</th>\n",
       "      <th>age</th>\n",
       "      <th>country_code</th>\n",
       "      <th>normalized_job_code</th>\n",
       "      <th>Quantity</th>\n",
       "    </tr>\n",
       "  </thead>\n",
       "  <tbody>\n",
       "    <tr>\n",
       "      <th>1</th>\n",
       "      <td>54f0f1c0-dda1-0133-a559-0a81e8b09a82</td>\n",
       "      <td>57</td>\n",
       "      <td>AT</td>\n",
       "      <td>861a9b9151e11362eb3c77ca914172d0</td>\n",
       "      <td>78</td>\n",
       "    </tr>\n",
       "  </tbody>\n",
       "</table>\n",
       "</div>"
      ],
      "text/plain": [
       "                                   uuid  age country_code  \\\n",
       "1  54f0f1c0-dda1-0133-a559-0a81e8b09a82   57           AT   \n",
       "\n",
       "                normalized_job_code  Quantity  \n",
       "1  861a9b9151e11362eb3c77ca914172d0        78  "
      ]
     },
     "execution_count": 4,
     "metadata": {},
     "output_type": "execute_result"
    }
   ],
   "source": [
    "relevant_data = transform_data(data)\n",
    "#relevant_data = relevant_data[relevant_data['normalized_job_code'].notna()]\n",
    "relevant_data.head(1)"
   ]
  },
  {
   "cell_type": "code",
   "execution_count": 5,
   "metadata": {},
   "outputs": [],
   "source": [
    "def country_name_import(relevant_data):\n",
    "    scrap_url = 'https://ec.europa.eu/eurostat/statistics-explained/index.php/Glossary:Country_codes'\n",
    "    html = requests.get(scrap_url).content\n",
    "    soup = BeautifulSoup(html, 'lxml')\n",
    "    table = soup.find_all('td')\n",
    "\n",
    "    # Scrap countries list and cleaning some mess\n",
    "    codes = [i.text.strip() for i in table]\n",
    "    pre_codes_clean = [i for i in codes if i != \"\"]\n",
    "    codes_clean = [re.sub(r'\\b[()]|[()]\\b', '', code) for code in pre_codes_clean]\n",
    "    codes_clean[3] = codes_clean[3].replace('EL', 'GR')\n",
    "    codes_clean[55] = codes_clean[55].replace('UK', 'GB')\n",
    "\n",
    "    # List to Dict and replace values into the column\n",
    "    countries_codes = {codes_clean[i + 1]: codes_clean[i] for i in range(0, len(codes_clean), 2)}\n",
    "    clean_data = relevant_data\n",
    "    #clean_data.dropna(inplace=True) \n",
    "    clean_data['country_code'].replace(countries_codes, inplace=True)\n",
    "    \n",
    "    return clean_data, countries_codes"
   ]
  },
  {
   "cell_type": "code",
   "execution_count": 6,
   "metadata": {},
   "outputs": [],
   "source": [
    "clean_data, countries_codes = country_name_import(relevant_data)"
   ]
  },
  {
   "cell_type": "code",
   "execution_count": 7,
   "metadata": {},
   "outputs": [
    {
     "name": "stdout",
     "output_type": "stream",
     "text": [
      "yesa\n"
     ]
    }
   ],
   "source": [
    "if 'Spain' in countries_codes.values():\n",
    "    print('yesa')"
   ]
  },
  {
   "cell_type": "code",
   "execution_count": 8,
   "metadata": {},
   "outputs": [
    {
     "data": {
      "text/plain": [
       "5702"
      ]
     },
     "execution_count": 8,
     "metadata": {},
     "output_type": "execute_result"
    }
   ],
   "source": [
    "len(clean_data)"
   ]
  },
  {
   "cell_type": "code",
   "execution_count": 9,
   "metadata": {},
   "outputs": [],
   "source": [
    "#clean_data['Quantity'] = clean_data.apply(lambda row: row.normalized_job_code., axis = 1) \n",
    "#clean_data['Quantity3'] = df['Data3'].groupby(df['Date']).transform('count')\n",
    "#clean_data['Quantity2'] = 1\n",
    "clean_data['Quantity'] = clean_data.groupby('normalized_job_code')['normalized_job_code'].transform('count') "
   ]
  },
  {
   "cell_type": "code",
   "execution_count": 10,
   "metadata": {},
   "outputs": [
    {
     "data": {
      "text/html": [
       "<div>\n",
       "<style scoped>\n",
       "    .dataframe tbody tr th:only-of-type {\n",
       "        vertical-align: middle;\n",
       "    }\n",
       "\n",
       "    .dataframe tbody tr th {\n",
       "        vertical-align: top;\n",
       "    }\n",
       "\n",
       "    .dataframe thead th {\n",
       "        text-align: right;\n",
       "    }\n",
       "</style>\n",
       "<table border=\"1\" class=\"dataframe\">\n",
       "  <thead>\n",
       "    <tr style=\"text-align: right;\">\n",
       "      <th></th>\n",
       "      <th>uuid</th>\n",
       "      <th>age</th>\n",
       "      <th>country_code</th>\n",
       "      <th>normalized_job_code</th>\n",
       "      <th>Quantity</th>\n",
       "    </tr>\n",
       "  </thead>\n",
       "  <tbody>\n",
       "    <tr>\n",
       "      <th>1</th>\n",
       "      <td>54f0f1c0-dda1-0133-a559-0a81e8b09a82</td>\n",
       "      <td>57</td>\n",
       "      <td>Austria</td>\n",
       "      <td>861a9b9151e11362eb3c77ca914172d0</td>\n",
       "      <td>78</td>\n",
       "    </tr>\n",
       "    <tr>\n",
       "      <th>3</th>\n",
       "      <td>15626d40-db13-0133-ea5c-0a81e8b09a82</td>\n",
       "      <td>45</td>\n",
       "      <td>Austria</td>\n",
       "      <td>049a3f3a2b5f85cb2971ba77ad66e10c</td>\n",
       "      <td>88</td>\n",
       "    </tr>\n",
       "    <tr>\n",
       "      <th>4</th>\n",
       "      <td>24954a70-db98-0133-4a64-0a81e8b09a82</td>\n",
       "      <td>41</td>\n",
       "      <td>Austria</td>\n",
       "      <td>f4b2fb1aa40f661488e2782b6d57ad2f</td>\n",
       "      <td>13</td>\n",
       "    </tr>\n",
       "    <tr>\n",
       "      <th>5</th>\n",
       "      <td>28583060-dbe2-0133-ff9c-0a81e8b09a82</td>\n",
       "      <td>26</td>\n",
       "      <td>Austria</td>\n",
       "      <td>27af8700f5577cec835acee2cb90a2ff</td>\n",
       "      <td>10</td>\n",
       "    </tr>\n",
       "    <tr>\n",
       "      <th>7</th>\n",
       "      <td>dd743bb0-d9a5-0133-53b2-0a81e8b09a82</td>\n",
       "      <td>47</td>\n",
       "      <td>Austria</td>\n",
       "      <td>c1b670eba9ccb65e7c99f7da116d5b9c</td>\n",
       "      <td>72</td>\n",
       "    </tr>\n",
       "  </tbody>\n",
       "</table>\n",
       "</div>"
      ],
      "text/plain": [
       "                                   uuid  age country_code  \\\n",
       "1  54f0f1c0-dda1-0133-a559-0a81e8b09a82   57      Austria   \n",
       "3  15626d40-db13-0133-ea5c-0a81e8b09a82   45      Austria   \n",
       "4  24954a70-db98-0133-4a64-0a81e8b09a82   41      Austria   \n",
       "5  28583060-dbe2-0133-ff9c-0a81e8b09a82   26      Austria   \n",
       "7  dd743bb0-d9a5-0133-53b2-0a81e8b09a82   47      Austria   \n",
       "\n",
       "                normalized_job_code  Quantity  \n",
       "1  861a9b9151e11362eb3c77ca914172d0        78  \n",
       "3  049a3f3a2b5f85cb2971ba77ad66e10c        88  \n",
       "4  f4b2fb1aa40f661488e2782b6d57ad2f        13  \n",
       "5  27af8700f5577cec835acee2cb90a2ff        10  \n",
       "7  c1b670eba9ccb65e7c99f7da116d5b9c        72  "
      ]
     },
     "execution_count": 10,
     "metadata": {},
     "output_type": "execute_result"
    }
   ],
   "source": [
    "clean_data.head(5)"
   ]
  },
  {
   "cell_type": "code",
   "execution_count": 11,
   "metadata": {},
   "outputs": [],
   "source": [
    "def finding_job(clean_data, job_title):\n",
    "    \n",
    "    for code in clean_data['normalized_job_code']:\n",
    "           \n",
    "        api_url = f'http://api.dataatwork.org/v1/jobs/' + code\n",
    "        response = requests.get(api_url).json()\n",
    "\n",
    "        if response['title'] == job_title:\n",
    "            key_uuid = response['uuid']\n",
    "            break\n",
    "    \n",
    "    return {key_uuid: job_title}"
   ]
  },
  {
   "cell_type": "code",
   "execution_count": 12,
   "metadata": {},
   "outputs": [],
   "source": [
    "#Select_jobs triggers the functions and finds the uuid tied to job selected and returns {uuid: job_title}\n",
    "def job_data(clean_data):\n",
    "    select_job = finding_job(clean_data, 'Data Scientist')\n",
    "    key_uuid = list(select_job.keys())[0]\n",
    "    \n",
    "    return select_job, key_uuid"
   ]
  },
  {
   "cell_type": "code",
   "execution_count": 13,
   "metadata": {},
   "outputs": [],
   "source": [
    "select_job, key_uuid = job_data(clean_data)"
   ]
  },
  {
   "cell_type": "code",
   "execution_count": 14,
   "metadata": {},
   "outputs": [],
   "source": [
    "def job_filtering(clean_data, normalized_job_code, key_uuid):\n",
    "    job_filter = clean_data['normalized_job_code'] == key_uuid\n",
    "    filtered_data = clean_data[job_filter]\n",
    "    filtered_data['normalized_job_code'].replace(select_job, inplace=True)\n",
    "    \n",
    "    return filtered_data"
   ]
  },
  {
   "cell_type": "code",
   "execution_count": 15,
   "metadata": {},
   "outputs": [
    {
     "name": "stderr",
     "output_type": "stream",
     "text": [
      "/home/sergio/miniconda3/envs/lab_env/lib/python3.7/site-packages/pandas/core/generic.py:6586: SettingWithCopyWarning: \n",
      "A value is trying to be set on a copy of a slice from a DataFrame\n",
      "\n",
      "See the caveats in the documentation: http://pandas.pydata.org/pandas-docs/stable/indexing.html#indexing-view-versus-copy\n",
      "  self._update_inplace(new_data)\n"
     ]
    }
   ],
   "source": [
    "filtered_data = job_filtering(clean_data, 'normalized_job_code', key_uuid)\n"
   ]
  },
  {
   "cell_type": "code",
   "execution_count": 16,
   "metadata": {},
   "outputs": [
    {
     "name": "stdout",
     "output_type": "stream",
     "text": [
      "    country_code normalized_job_code\n",
      "206      Belgium      Data Scientist\n",
      "214      Belgium      Data Scientist\n",
      "249      Belgium      Data Scientist\n"
     ]
    }
   ],
   "source": [
    "print(filtered_data[['country_code','normalized_job_code']].head(3))"
   ]
  },
  {
   "cell_type": "code",
   "execution_count": 17,
   "metadata": {},
   "outputs": [],
   "source": [
    "#filtered_data.to_csv(f'../data/processed/filtered_data.csv', index=False)"
   ]
  },
  {
   "cell_type": "code",
   "execution_count": 18,
   "metadata": {},
   "outputs": [],
   "source": [
    "def country_filter(dataframe, col, value):\n",
    "    filter_country = dataframe[col] == value\n",
    "    filtered_country = dataframe[filter_country]\n",
    "    return filtered_country"
   ]
  },
  {
   "cell_type": "code",
   "execution_count": 19,
   "metadata": {},
   "outputs": [],
   "source": [
    "#At this point, you could choose Filtering by country or not. ie Spain. If empty, selects all.\n",
    "def country_filtering(filtered_data, country, countries_codes):\n",
    "    print(country)\n",
    "    if country == 'All_countries':\n",
    "        return filtered_data\n",
    "    elif country in countries_codes.values():\n",
    "        filtered_data = country_filter(filtered_data, 'country_code', country)\n",
    "        return filtered_data\n",
    "    else:\n",
    "        print('Error: country name not included in the database or type error')"
   ]
  },
  {
   "cell_type": "code",
   "execution_count": 20,
   "metadata": {},
   "outputs": [
    {
     "name": "stdout",
     "output_type": "stream",
     "text": [
      "All_countries\n"
     ]
    }
   ],
   "source": [
    "country = 'All_countries'\n",
    "filtered_data = country_filtering(filtered_data, country, countries_codes)"
   ]
  },
  {
   "cell_type": "code",
   "execution_count": 22,
   "metadata": {},
   "outputs": [
    {
     "data": {
      "text/html": [
       "<div>\n",
       "<style scoped>\n",
       "    .dataframe tbody tr th:only-of-type {\n",
       "        vertical-align: middle;\n",
       "    }\n",
       "\n",
       "    .dataframe tbody tr th {\n",
       "        vertical-align: top;\n",
       "    }\n",
       "\n",
       "    .dataframe thead th {\n",
       "        text-align: right;\n",
       "    }\n",
       "</style>\n",
       "<table border=\"1\" class=\"dataframe\">\n",
       "  <thead>\n",
       "    <tr style=\"text-align: right;\">\n",
       "      <th></th>\n",
       "      <th>uuid</th>\n",
       "      <th>age</th>\n",
       "      <th>country_code</th>\n",
       "      <th>normalized_job_code</th>\n",
       "      <th>Quantity</th>\n",
       "    </tr>\n",
       "  </thead>\n",
       "  <tbody>\n",
       "    <tr>\n",
       "      <th>206</th>\n",
       "      <td>78156750-d949-0133-1a02-0a81e8b09a82</td>\n",
       "      <td>21</td>\n",
       "      <td>Belgium</td>\n",
       "      <td>Data Scientist</td>\n",
       "      <td>67</td>\n",
       "    </tr>\n",
       "    <tr>\n",
       "      <th>214</th>\n",
       "      <td>92c27100-d9d0-0133-c4db-0a81e8b09a82</td>\n",
       "      <td>43</td>\n",
       "      <td>Belgium</td>\n",
       "      <td>Data Scientist</td>\n",
       "      <td>67</td>\n",
       "    </tr>\n",
       "    <tr>\n",
       "      <th>249</th>\n",
       "      <td>f30223b0-d950-0133-5b67-0a81e8b09a82</td>\n",
       "      <td>50</td>\n",
       "      <td>Belgium</td>\n",
       "      <td>Data Scientist</td>\n",
       "      <td>67</td>\n",
       "    </tr>\n",
       "    <tr>\n",
       "      <th>292</th>\n",
       "      <td>5bbb2320-db06-0133-c0ce-0a81e8b09a82</td>\n",
       "      <td>20</td>\n",
       "      <td>Belgium</td>\n",
       "      <td>Data Scientist</td>\n",
       "      <td>67</td>\n",
       "    </tr>\n",
       "    <tr>\n",
       "      <th>532</th>\n",
       "      <td>5f1b17e0-d97f-0133-f63f-0a81e8b09a82</td>\n",
       "      <td>38</td>\n",
       "      <td>Czechia</td>\n",
       "      <td>Data Scientist</td>\n",
       "      <td>67</td>\n",
       "    </tr>\n",
       "    <tr>\n",
       "      <th>826</th>\n",
       "      <td>9746cbf0-dd28-0133-6b03-0a81e8b09a82</td>\n",
       "      <td>36</td>\n",
       "      <td>Germany</td>\n",
       "      <td>Data Scientist</td>\n",
       "      <td>67</td>\n",
       "    </tr>\n",
       "    <tr>\n",
       "      <th>1008</th>\n",
       "      <td>3c437ba0-dd4d-0133-f96e-0a81e8b09a82</td>\n",
       "      <td>51</td>\n",
       "      <td>Germany</td>\n",
       "      <td>Data Scientist</td>\n",
       "      <td>67</td>\n",
       "    </tr>\n",
       "    <tr>\n",
       "      <th>1025</th>\n",
       "      <td>50588d40-dd28-0133-6a98-0a81e8b09a82</td>\n",
       "      <td>44</td>\n",
       "      <td>Germany</td>\n",
       "      <td>Data Scientist</td>\n",
       "      <td>67</td>\n",
       "    </tr>\n",
       "    <tr>\n",
       "      <th>1219</th>\n",
       "      <td>2d8ccc10-db17-0133-e957-0a81e8b09a82</td>\n",
       "      <td>48</td>\n",
       "      <td>Germany</td>\n",
       "      <td>Data Scientist</td>\n",
       "      <td>67</td>\n",
       "    </tr>\n",
       "    <tr>\n",
       "      <th>1279</th>\n",
       "      <td>25865d60-df19-0133-3655-0a81e8b09a82</td>\n",
       "      <td>50</td>\n",
       "      <td>Germany</td>\n",
       "      <td>Data Scientist</td>\n",
       "      <td>67</td>\n",
       "    </tr>\n",
       "  </tbody>\n",
       "</table>\n",
       "</div>"
      ],
      "text/plain": [
       "                                      uuid  age country_code  \\\n",
       "206   78156750-d949-0133-1a02-0a81e8b09a82   21      Belgium   \n",
       "214   92c27100-d9d0-0133-c4db-0a81e8b09a82   43      Belgium   \n",
       "249   f30223b0-d950-0133-5b67-0a81e8b09a82   50      Belgium   \n",
       "292   5bbb2320-db06-0133-c0ce-0a81e8b09a82   20      Belgium   \n",
       "532   5f1b17e0-d97f-0133-f63f-0a81e8b09a82   38      Czechia   \n",
       "826   9746cbf0-dd28-0133-6b03-0a81e8b09a82   36      Germany   \n",
       "1008  3c437ba0-dd4d-0133-f96e-0a81e8b09a82   51      Germany   \n",
       "1025  50588d40-dd28-0133-6a98-0a81e8b09a82   44      Germany   \n",
       "1219  2d8ccc10-db17-0133-e957-0a81e8b09a82   48      Germany   \n",
       "1279  25865d60-df19-0133-3655-0a81e8b09a82   50      Germany   \n",
       "\n",
       "     normalized_job_code  Quantity  \n",
       "206       Data Scientist        67  \n",
       "214       Data Scientist        67  \n",
       "249       Data Scientist        67  \n",
       "292       Data Scientist        67  \n",
       "532       Data Scientist        67  \n",
       "826       Data Scientist        67  \n",
       "1008      Data Scientist        67  \n",
       "1025      Data Scientist        67  \n",
       "1219      Data Scientist        67  \n",
       "1279      Data Scientist        67  "
      ]
     },
     "execution_count": 22,
     "metadata": {},
     "output_type": "execute_result"
    }
   ],
   "source": [
    "filtered_data.head(10)"
   ]
  },
  {
   "cell_type": "code",
   "execution_count": 22,
   "metadata": {},
   "outputs": [],
   "source": [
    "def percentage_func(filtered_data):\n",
    "    filtered_data['Percentage'] = filtered_data['Quantity'] / len(clean_data) * 100\n",
    "    return filtered_data\n"
   ]
  },
  {
   "cell_type": "code",
   "execution_count": 23,
   "metadata": {},
   "outputs": [
    {
     "data": {
      "text/plain": [
       "67"
      ]
     },
     "execution_count": 23,
     "metadata": {},
     "output_type": "execute_result"
    }
   ],
   "source": [
    "wa = filtered_data.iloc[0,4]\n",
    "wa"
   ]
  },
  {
   "cell_type": "code",
   "execution_count": 30,
   "metadata": {},
   "outputs": [
    {
     "name": "stderr",
     "output_type": "stream",
     "text": [
      "/home/sergio/miniconda3/envs/lab_env/lib/python3.7/site-packages/ipykernel_launcher.py:1: SettingWithCopyWarning: \n",
      "A value is trying to be set on a copy of a slice from a DataFrame.\n",
      "Try using .loc[row_indexer,col_indexer] = value instead\n",
      "\n",
      "See the caveats in the documentation: http://pandas.pydata.org/pandas-docs/stable/indexing.html#indexing-view-versus-copy\n",
      "  \"\"\"Entry point for launching an IPython kernel.\n"
     ]
    }
   ],
   "source": [
    "filtered_data['Percentage2'] = filtered_data.iloc[0,4] / len(clean_data) * 100\n"
   ]
  },
  {
   "cell_type": "code",
   "execution_count": null,
   "metadata": {},
   "outputs": [],
   "source": [
    "https://stackoverflow.com/questions/20625582/how-to-deal-with-settingwithcopywarning-in-pandas"
   ]
  },
  {
   "cell_type": "code",
   "execution_count": 31,
   "metadata": {},
   "outputs": [
    {
     "data": {
      "text/html": [
       "<div>\n",
       "<style scoped>\n",
       "    .dataframe tbody tr th:only-of-type {\n",
       "        vertical-align: middle;\n",
       "    }\n",
       "\n",
       "    .dataframe tbody tr th {\n",
       "        vertical-align: top;\n",
       "    }\n",
       "\n",
       "    .dataframe thead th {\n",
       "        text-align: right;\n",
       "    }\n",
       "</style>\n",
       "<table border=\"1\" class=\"dataframe\">\n",
       "  <thead>\n",
       "    <tr style=\"text-align: right;\">\n",
       "      <th></th>\n",
       "      <th>uuid</th>\n",
       "      <th>age</th>\n",
       "      <th>country_code</th>\n",
       "      <th>normalized_job_code</th>\n",
       "      <th>Quantity</th>\n",
       "      <th>Percentage</th>\n",
       "      <th>Percentage2</th>\n",
       "    </tr>\n",
       "  </thead>\n",
       "  <tbody>\n",
       "    <tr>\n",
       "      <th>206</th>\n",
       "      <td>78156750-d949-0133-1a02-0a81e8b09a82</td>\n",
       "      <td>21</td>\n",
       "      <td>Belgium</td>\n",
       "      <td>Data Scientist</td>\n",
       "      <td>67</td>\n",
       "      <td>1</td>\n",
       "      <td>1</td>\n",
       "    </tr>\n",
       "    <tr>\n",
       "      <th>214</th>\n",
       "      <td>92c27100-d9d0-0133-c4db-0a81e8b09a82</td>\n",
       "      <td>43</td>\n",
       "      <td>Belgium</td>\n",
       "      <td>Data Scientist</td>\n",
       "      <td>67</td>\n",
       "      <td>1</td>\n",
       "      <td>1</td>\n",
       "    </tr>\n",
       "    <tr>\n",
       "      <th>249</th>\n",
       "      <td>f30223b0-d950-0133-5b67-0a81e8b09a82</td>\n",
       "      <td>50</td>\n",
       "      <td>Belgium</td>\n",
       "      <td>Data Scientist</td>\n",
       "      <td>67</td>\n",
       "      <td>1</td>\n",
       "      <td>1</td>\n",
       "    </tr>\n",
       "    <tr>\n",
       "      <th>292</th>\n",
       "      <td>5bbb2320-db06-0133-c0ce-0a81e8b09a82</td>\n",
       "      <td>20</td>\n",
       "      <td>Belgium</td>\n",
       "      <td>Data Scientist</td>\n",
       "      <td>67</td>\n",
       "      <td>1</td>\n",
       "      <td>1</td>\n",
       "    </tr>\n",
       "    <tr>\n",
       "      <th>532</th>\n",
       "      <td>5f1b17e0-d97f-0133-f63f-0a81e8b09a82</td>\n",
       "      <td>38</td>\n",
       "      <td>Czechia</td>\n",
       "      <td>Data Scientist</td>\n",
       "      <td>67</td>\n",
       "      <td>1</td>\n",
       "      <td>1</td>\n",
       "    </tr>\n",
       "  </tbody>\n",
       "</table>\n",
       "</div>"
      ],
      "text/plain": [
       "                                     uuid  age country_code  \\\n",
       "206  78156750-d949-0133-1a02-0a81e8b09a82   21      Belgium   \n",
       "214  92c27100-d9d0-0133-c4db-0a81e8b09a82   43      Belgium   \n",
       "249  f30223b0-d950-0133-5b67-0a81e8b09a82   50      Belgium   \n",
       "292  5bbb2320-db06-0133-c0ce-0a81e8b09a82   20      Belgium   \n",
       "532  5f1b17e0-d97f-0133-f63f-0a81e8b09a82   38      Czechia   \n",
       "\n",
       "    normalized_job_code  Quantity  Percentage  Percentage2  \n",
       "206      Data Scientist        67           1            1  \n",
       "214      Data Scientist        67           1            1  \n",
       "249      Data Scientist        67           1            1  \n",
       "292      Data Scientist        67           1            1  \n",
       "532      Data Scientist        67           1            1  "
      ]
     },
     "execution_count": 31,
     "metadata": {},
     "output_type": "execute_result"
    }
   ],
   "source": [
    "filtered_data.head(5)"
   ]
  },
  {
   "cell_type": "code",
   "execution_count": 27,
   "metadata": {},
   "outputs": [
    {
     "ename": "KeyError",
     "evalue": "('country_code', 'age', 'normalized_job_code', 'Quantity', 'Percentage')",
     "output_type": "error",
     "traceback": [
      "\u001b[0;31m---------------------------------------------------------------------------\u001b[0m",
      "\u001b[0;31mKeyError\u001b[0m                                  Traceback (most recent call last)",
      "\u001b[0;32m~/miniconda3/envs/lab_env/lib/python3.7/site-packages/pandas/core/indexes/base.py\u001b[0m in \u001b[0;36mget_loc\u001b[0;34m(self, key, method, tolerance)\u001b[0m\n\u001b[1;32m   2656\u001b[0m             \u001b[0;32mtry\u001b[0m\u001b[0;34m:\u001b[0m\u001b[0;34m\u001b[0m\u001b[0;34m\u001b[0m\u001b[0m\n\u001b[0;32m-> 2657\u001b[0;31m                 \u001b[0;32mreturn\u001b[0m \u001b[0mself\u001b[0m\u001b[0;34m.\u001b[0m\u001b[0m_engine\u001b[0m\u001b[0;34m.\u001b[0m\u001b[0mget_loc\u001b[0m\u001b[0;34m(\u001b[0m\u001b[0mkey\u001b[0m\u001b[0;34m)\u001b[0m\u001b[0;34m\u001b[0m\u001b[0;34m\u001b[0m\u001b[0m\n\u001b[0m\u001b[1;32m   2658\u001b[0m             \u001b[0;32mexcept\u001b[0m \u001b[0mKeyError\u001b[0m\u001b[0;34m:\u001b[0m\u001b[0;34m\u001b[0m\u001b[0;34m\u001b[0m\u001b[0m\n",
      "\u001b[0;32mpandas/_libs/index.pyx\u001b[0m in \u001b[0;36mpandas._libs.index.IndexEngine.get_loc\u001b[0;34m()\u001b[0m\n",
      "\u001b[0;32mpandas/_libs/index.pyx\u001b[0m in \u001b[0;36mpandas._libs.index.IndexEngine.get_loc\u001b[0;34m()\u001b[0m\n",
      "\u001b[0;32mpandas/_libs/hashtable_class_helper.pxi\u001b[0m in \u001b[0;36mpandas._libs.hashtable.PyObjectHashTable.get_item\u001b[0;34m()\u001b[0m\n",
      "\u001b[0;32mpandas/_libs/hashtable_class_helper.pxi\u001b[0m in \u001b[0;36mpandas._libs.hashtable.PyObjectHashTable.get_item\u001b[0;34m()\u001b[0m\n",
      "\u001b[0;31mKeyError\u001b[0m: ('country_code', 'age', 'normalized_job_code', 'Quantity', 'Percentage')",
      "\nDuring handling of the above exception, another exception occurred:\n",
      "\u001b[0;31mKeyError\u001b[0m                                  Traceback (most recent call last)",
      "\u001b[0;32m<ipython-input-27-f04ef21e9a4b>\u001b[0m in \u001b[0;36m<module>\u001b[0;34m\u001b[0m\n\u001b[0;32m----> 1\u001b[0;31m \u001b[0mfiltered_data\u001b[0m\u001b[0;34m[\u001b[0m\u001b[0;34m'country_code'\u001b[0m\u001b[0;34m,\u001b[0m \u001b[0;34m'age'\u001b[0m\u001b[0;34m,\u001b[0m \u001b[0;34m'normalized_job_code'\u001b[0m\u001b[0;34m,\u001b[0m \u001b[0;34m'Quantity'\u001b[0m\u001b[0;34m,\u001b[0m \u001b[0;34m'Percentage'\u001b[0m\u001b[0;34m]\u001b[0m\u001b[0;34m\u001b[0m\u001b[0;34m\u001b[0m\u001b[0m\n\u001b[0m",
      "\u001b[0;32m~/miniconda3/envs/lab_env/lib/python3.7/site-packages/pandas/core/frame.py\u001b[0m in \u001b[0;36m__getitem__\u001b[0;34m(self, key)\u001b[0m\n\u001b[1;32m   2925\u001b[0m             \u001b[0;32mif\u001b[0m \u001b[0mself\u001b[0m\u001b[0;34m.\u001b[0m\u001b[0mcolumns\u001b[0m\u001b[0;34m.\u001b[0m\u001b[0mnlevels\u001b[0m \u001b[0;34m>\u001b[0m \u001b[0;36m1\u001b[0m\u001b[0;34m:\u001b[0m\u001b[0;34m\u001b[0m\u001b[0;34m\u001b[0m\u001b[0m\n\u001b[1;32m   2926\u001b[0m                 \u001b[0;32mreturn\u001b[0m \u001b[0mself\u001b[0m\u001b[0;34m.\u001b[0m\u001b[0m_getitem_multilevel\u001b[0m\u001b[0;34m(\u001b[0m\u001b[0mkey\u001b[0m\u001b[0;34m)\u001b[0m\u001b[0;34m\u001b[0m\u001b[0;34m\u001b[0m\u001b[0m\n\u001b[0;32m-> 2927\u001b[0;31m             \u001b[0mindexer\u001b[0m \u001b[0;34m=\u001b[0m \u001b[0mself\u001b[0m\u001b[0;34m.\u001b[0m\u001b[0mcolumns\u001b[0m\u001b[0;34m.\u001b[0m\u001b[0mget_loc\u001b[0m\u001b[0;34m(\u001b[0m\u001b[0mkey\u001b[0m\u001b[0;34m)\u001b[0m\u001b[0;34m\u001b[0m\u001b[0;34m\u001b[0m\u001b[0m\n\u001b[0m\u001b[1;32m   2928\u001b[0m             \u001b[0;32mif\u001b[0m \u001b[0mis_integer\u001b[0m\u001b[0;34m(\u001b[0m\u001b[0mindexer\u001b[0m\u001b[0;34m)\u001b[0m\u001b[0;34m:\u001b[0m\u001b[0;34m\u001b[0m\u001b[0;34m\u001b[0m\u001b[0m\n\u001b[1;32m   2929\u001b[0m                 \u001b[0mindexer\u001b[0m \u001b[0;34m=\u001b[0m \u001b[0;34m[\u001b[0m\u001b[0mindexer\u001b[0m\u001b[0;34m]\u001b[0m\u001b[0;34m\u001b[0m\u001b[0;34m\u001b[0m\u001b[0m\n",
      "\u001b[0;32m~/miniconda3/envs/lab_env/lib/python3.7/site-packages/pandas/core/indexes/base.py\u001b[0m in \u001b[0;36mget_loc\u001b[0;34m(self, key, method, tolerance)\u001b[0m\n\u001b[1;32m   2657\u001b[0m                 \u001b[0;32mreturn\u001b[0m \u001b[0mself\u001b[0m\u001b[0;34m.\u001b[0m\u001b[0m_engine\u001b[0m\u001b[0;34m.\u001b[0m\u001b[0mget_loc\u001b[0m\u001b[0;34m(\u001b[0m\u001b[0mkey\u001b[0m\u001b[0;34m)\u001b[0m\u001b[0;34m\u001b[0m\u001b[0;34m\u001b[0m\u001b[0m\n\u001b[1;32m   2658\u001b[0m             \u001b[0;32mexcept\u001b[0m \u001b[0mKeyError\u001b[0m\u001b[0;34m:\u001b[0m\u001b[0;34m\u001b[0m\u001b[0;34m\u001b[0m\u001b[0m\n\u001b[0;32m-> 2659\u001b[0;31m                 \u001b[0;32mreturn\u001b[0m \u001b[0mself\u001b[0m\u001b[0;34m.\u001b[0m\u001b[0m_engine\u001b[0m\u001b[0;34m.\u001b[0m\u001b[0mget_loc\u001b[0m\u001b[0;34m(\u001b[0m\u001b[0mself\u001b[0m\u001b[0;34m.\u001b[0m\u001b[0m_maybe_cast_indexer\u001b[0m\u001b[0;34m(\u001b[0m\u001b[0mkey\u001b[0m\u001b[0;34m)\u001b[0m\u001b[0;34m)\u001b[0m\u001b[0;34m\u001b[0m\u001b[0;34m\u001b[0m\u001b[0m\n\u001b[0m\u001b[1;32m   2660\u001b[0m         \u001b[0mindexer\u001b[0m \u001b[0;34m=\u001b[0m \u001b[0mself\u001b[0m\u001b[0;34m.\u001b[0m\u001b[0mget_indexer\u001b[0m\u001b[0;34m(\u001b[0m\u001b[0;34m[\u001b[0m\u001b[0mkey\u001b[0m\u001b[0;34m]\u001b[0m\u001b[0;34m,\u001b[0m \u001b[0mmethod\u001b[0m\u001b[0;34m=\u001b[0m\u001b[0mmethod\u001b[0m\u001b[0;34m,\u001b[0m \u001b[0mtolerance\u001b[0m\u001b[0;34m=\u001b[0m\u001b[0mtolerance\u001b[0m\u001b[0;34m)\u001b[0m\u001b[0;34m\u001b[0m\u001b[0;34m\u001b[0m\u001b[0m\n\u001b[1;32m   2661\u001b[0m         \u001b[0;32mif\u001b[0m \u001b[0mindexer\u001b[0m\u001b[0;34m.\u001b[0m\u001b[0mndim\u001b[0m \u001b[0;34m>\u001b[0m \u001b[0;36m1\u001b[0m \u001b[0;32mor\u001b[0m \u001b[0mindexer\u001b[0m\u001b[0;34m.\u001b[0m\u001b[0msize\u001b[0m \u001b[0;34m>\u001b[0m \u001b[0;36m1\u001b[0m\u001b[0;34m:\u001b[0m\u001b[0;34m\u001b[0m\u001b[0;34m\u001b[0m\u001b[0m\n",
      "\u001b[0;32mpandas/_libs/index.pyx\u001b[0m in \u001b[0;36mpandas._libs.index.IndexEngine.get_loc\u001b[0;34m()\u001b[0m\n",
      "\u001b[0;32mpandas/_libs/index.pyx\u001b[0m in \u001b[0;36mpandas._libs.index.IndexEngine.get_loc\u001b[0;34m()\u001b[0m\n",
      "\u001b[0;32mpandas/_libs/hashtable_class_helper.pxi\u001b[0m in \u001b[0;36mpandas._libs.hashtable.PyObjectHashTable.get_item\u001b[0;34m()\u001b[0m\n",
      "\u001b[0;32mpandas/_libs/hashtable_class_helper.pxi\u001b[0m in \u001b[0;36mpandas._libs.hashtable.PyObjectHashTable.get_item\u001b[0;34m()\u001b[0m\n",
      "\u001b[0;31mKeyError\u001b[0m: ('country_code', 'age', 'normalized_job_code', 'Quantity', 'Percentage')"
     ]
    }
   ],
   "source": [
    "filtered_data['country_code', 'age', 'normalized_job_code', 'Quantity', 'Percentage']"
   ]
  },
  {
   "cell_type": "code",
   "execution_count": 28,
   "metadata": {},
   "outputs": [
    {
     "data": {
      "text/html": [
       "<div>\n",
       "<style scoped>\n",
       "    .dataframe tbody tr th:only-of-type {\n",
       "        vertical-align: middle;\n",
       "    }\n",
       "\n",
       "    .dataframe tbody tr th {\n",
       "        vertical-align: top;\n",
       "    }\n",
       "\n",
       "    .dataframe thead th {\n",
       "        text-align: right;\n",
       "    }\n",
       "</style>\n",
       "<table border=\"1\" class=\"dataframe\">\n",
       "  <thead>\n",
       "    <tr style=\"text-align: right;\">\n",
       "      <th></th>\n",
       "      <th>uuid</th>\n",
       "      <th>age</th>\n",
       "      <th>country_code</th>\n",
       "      <th>normalized_job_code</th>\n",
       "    </tr>\n",
       "  </thead>\n",
       "  <tbody>\n",
       "    <tr>\n",
       "      <th>0</th>\n",
       "      <td>78156750-d949-0133-1a02-0a81e8b09a82</td>\n",
       "      <td>21</td>\n",
       "      <td>Belgium</td>\n",
       "      <td>Data Scientist</td>\n",
       "    </tr>\n",
       "    <tr>\n",
       "      <th>1</th>\n",
       "      <td>92c27100-d9d0-0133-c4db-0a81e8b09a82</td>\n",
       "      <td>43</td>\n",
       "      <td>Belgium</td>\n",
       "      <td>Data Scientist</td>\n",
       "    </tr>\n",
       "    <tr>\n",
       "      <th>2</th>\n",
       "      <td>f30223b0-d950-0133-5b67-0a81e8b09a82</td>\n",
       "      <td>50</td>\n",
       "      <td>Belgium</td>\n",
       "      <td>Data Scientist</td>\n",
       "    </tr>\n",
       "    <tr>\n",
       "      <th>3</th>\n",
       "      <td>5bbb2320-db06-0133-c0ce-0a81e8b09a82</td>\n",
       "      <td>20</td>\n",
       "      <td>Belgium</td>\n",
       "      <td>Data Scientist</td>\n",
       "    </tr>\n",
       "    <tr>\n",
       "      <th>4</th>\n",
       "      <td>5f1b17e0-d97f-0133-f63f-0a81e8b09a82</td>\n",
       "      <td>38</td>\n",
       "      <td>Czechia</td>\n",
       "      <td>Data Scientist</td>\n",
       "    </tr>\n",
       "  </tbody>\n",
       "</table>\n",
       "</div>"
      ],
      "text/plain": [
       "                                   uuid  age country_code normalized_job_code\n",
       "0  78156750-d949-0133-1a02-0a81e8b09a82   21      Belgium      Data Scientist\n",
       "1  92c27100-d9d0-0133-c4db-0a81e8b09a82   43      Belgium      Data Scientist\n",
       "2  f30223b0-d950-0133-5b67-0a81e8b09a82   50      Belgium      Data Scientist\n",
       "3  5bbb2320-db06-0133-c0ce-0a81e8b09a82   20      Belgium      Data Scientist\n",
       "4  5f1b17e0-d97f-0133-f63f-0a81e8b09a82   38      Czechia      Data Scientist"
      ]
     },
     "execution_count": 28,
     "metadata": {},
     "output_type": "execute_result"
    }
   ],
   "source": [
    "data_testeo = pd.read_csv('../data/processed/filtered_data.csv')\n",
    "data_testeo.head()\n"
   ]
  },
  {
   "cell_type": "code",
   "execution_count": 29,
   "metadata": {},
   "outputs": [
    {
     "data": {
      "text/plain": [
       "False"
      ]
     },
     "execution_count": 29,
     "metadata": {},
     "output_type": "execute_result"
    }
   ],
   "source": [
    "len(data_testeo['country_code']) == 'Spain'"
   ]
  },
  {
   "cell_type": "code",
   "execution_count": 30,
   "metadata": {},
   "outputs": [],
   "source": [
    "def percentage_func(col):\n",
    "    len(data_testo['country_code']) == Spain\n",
    "    \n",
    "    return len(data_testeo['uuid'])\n"
   ]
  },
  {
   "cell_type": "code",
   "execution_count": 31,
   "metadata": {},
   "outputs": [
    {
     "data": {
      "text/html": [
       "<div>\n",
       "<style scoped>\n",
       "    .dataframe tbody tr th:only-of-type {\n",
       "        vertical-align: middle;\n",
       "    }\n",
       "\n",
       "    .dataframe tbody tr th {\n",
       "        vertical-align: top;\n",
       "    }\n",
       "\n",
       "    .dataframe thead th {\n",
       "        text-align: right;\n",
       "    }\n",
       "</style>\n",
       "<table border=\"1\" class=\"dataframe\">\n",
       "  <thead>\n",
       "    <tr style=\"text-align: right;\">\n",
       "      <th></th>\n",
       "      <th>uuid</th>\n",
       "      <th>Age</th>\n",
       "      <th>Country</th>\n",
       "      <th>Job Title</th>\n",
       "    </tr>\n",
       "  </thead>\n",
       "  <tbody>\n",
       "    <tr>\n",
       "      <th>0</th>\n",
       "      <td>78156750-d949-0133-1a02-0a81e8b09a82</td>\n",
       "      <td>21</td>\n",
       "      <td>Belgium</td>\n",
       "      <td>Data Scientist</td>\n",
       "    </tr>\n",
       "    <tr>\n",
       "      <th>1</th>\n",
       "      <td>92c27100-d9d0-0133-c4db-0a81e8b09a82</td>\n",
       "      <td>43</td>\n",
       "      <td>Belgium</td>\n",
       "      <td>Data Scientist</td>\n",
       "    </tr>\n",
       "    <tr>\n",
       "      <th>2</th>\n",
       "      <td>f30223b0-d950-0133-5b67-0a81e8b09a82</td>\n",
       "      <td>50</td>\n",
       "      <td>Belgium</td>\n",
       "      <td>Data Scientist</td>\n",
       "    </tr>\n",
       "    <tr>\n",
       "      <th>3</th>\n",
       "      <td>5bbb2320-db06-0133-c0ce-0a81e8b09a82</td>\n",
       "      <td>20</td>\n",
       "      <td>Belgium</td>\n",
       "      <td>Data Scientist</td>\n",
       "    </tr>\n",
       "    <tr>\n",
       "      <th>4</th>\n",
       "      <td>5f1b17e0-d97f-0133-f63f-0a81e8b09a82</td>\n",
       "      <td>38</td>\n",
       "      <td>Czechia</td>\n",
       "      <td>Data Scientist</td>\n",
       "    </tr>\n",
       "  </tbody>\n",
       "</table>\n",
       "</div>"
      ],
      "text/plain": [
       "                                   uuid  Age  Country       Job Title\n",
       "0  78156750-d949-0133-1a02-0a81e8b09a82   21  Belgium  Data Scientist\n",
       "1  92c27100-d9d0-0133-c4db-0a81e8b09a82   43  Belgium  Data Scientist\n",
       "2  f30223b0-d950-0133-5b67-0a81e8b09a82   50  Belgium  Data Scientist\n",
       "3  5bbb2320-db06-0133-c0ce-0a81e8b09a82   20  Belgium  Data Scientist\n",
       "4  5f1b17e0-d97f-0133-f63f-0a81e8b09a82   38  Czechia  Data Scientist"
      ]
     },
     "execution_count": 31,
     "metadata": {},
     "output_type": "execute_result"
    }
   ],
   "source": [
    "data_testeo.rename(columns={'age': 'Age', 'country_code': 'Country', 'normalized_job_code': 'Job Title'}, inplace=True) \n",
    "data_testeo.head()"
   ]
  },
  {
   "cell_type": "code",
   "execution_count": 25,
   "metadata": {},
   "outputs": [],
   "source": [
    "def quantity_func(col):\n",
    "    return col.value_counts()\n"
   ]
  },
  {
   "cell_type": "code",
   "execution_count": null,
   "metadata": {},
   "outputs": [],
   "source": []
  },
  {
   "cell_type": "code",
   "execution_count": 28,
   "metadata": {},
   "outputs": [],
   "source": [
    "def analyze(filtered_data):\n",
    "    result = filtered_data.groupby(['Country', 'Age'])['Job Title'].agg(quantity_func).reset_index()\n",
    "    print(result)\n",
    "    return result"
   ]
  },
  {
   "cell_type": "code",
   "execution_count": 29,
   "metadata": {},
   "outputs": [
    {
     "name": "stdout",
     "output_type": "stream",
     "text": [
      "           Country  Age  Job Title\n",
      "0          Belgium   20          1\n",
      "1          Belgium   21          1\n",
      "2          Belgium   43          1\n",
      "3          Belgium   50          1\n",
      "4          Czechia   38          1\n",
      "5          Denmark   25          1\n",
      "6          Finland   44          1\n",
      "7           France   16          1\n",
      "8           France   21          1\n",
      "9           France   39          1\n",
      "10          France   43          1\n",
      "11          France   44          2\n",
      "12          France   48          1\n",
      "13         Germany   35          1\n",
      "14         Germany   36          2\n",
      "15         Germany   44          1\n",
      "16         Germany   48          1\n",
      "17         Germany   49          1\n",
      "18         Germany   50          1\n",
      "19         Germany   51          1\n",
      "20          Greece   39          1\n",
      "21          Greece   48          1\n",
      "22         Ireland   38          1\n",
      "23           Italy   18          1\n",
      "24           Italy   27          1\n",
      "25           Italy   29          1\n",
      "26           Italy   30          1\n",
      "27           Italy   32          1\n",
      "28           Italy   33          1\n",
      "29           Italy   37          2\n",
      "..             ...  ...        ...\n",
      "33           Italy   47          1\n",
      "34           Malta   40          1\n",
      "35     Netherlands   22          1\n",
      "36     Netherlands   32          1\n",
      "37     Netherlands   51          1\n",
      "38          Poland   54          1\n",
      "39          Poland   55          1\n",
      "40        Portugal   39          1\n",
      "41        Portugal   44          1\n",
      "42        Portugal   45          1\n",
      "43        Portugal   52          1\n",
      "44        Slovakia   48          1\n",
      "45        Slovakia   49          1\n",
      "46        Slovakia   51          1\n",
      "47           Spain   23          1\n",
      "48           Spain   27          1\n",
      "49           Spain   35          1\n",
      "50           Spain   40          2\n",
      "51           Spain   47          1\n",
      "52           Spain   51          1\n",
      "53          Sweden   35          1\n",
      "54          Sweden   41          1\n",
      "55  United Kingdom   22          1\n",
      "56  United Kingdom   29          1\n",
      "57  United Kingdom   30          1\n",
      "58  United Kingdom   35          1\n",
      "59  United Kingdom   36          1\n",
      "60  United Kingdom   45          1\n",
      "61  United Kingdom   50          1\n",
      "62  United Kingdom   59          1\n",
      "\n",
      "[63 rows x 3 columns]\n"
     ]
    }
   ],
   "source": [
    "result = analyze(data_testeo) "
   ]
  },
  {
   "cell_type": "code",
   "execution_count": 15,
   "metadata": {},
   "outputs": [
    {
     "data": {
      "text/plain": [
       "pandas.core.frame.DataFrame"
      ]
     },
     "execution_count": 15,
     "metadata": {},
     "output_type": "execute_result"
    }
   ],
   "source": [
    "type(result)"
   ]
  }
 ],
 "metadata": {
  "kernelspec": {
   "display_name": "Python [conda env:lab_env]",
   "language": "python",
   "name": "conda-env-lab_env-py"
  },
  "language_info": {
   "codemirror_mode": {
    "name": "ipython",
    "version": 3
   },
   "file_extension": ".py",
   "mimetype": "text/x-python",
   "name": "python",
   "nbconvert_exporter": "python",
   "pygments_lexer": "ipython3",
   "version": "3.7.3"
  }
 },
 "nbformat": 4,
 "nbformat_minor": 4
}
