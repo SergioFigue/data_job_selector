{
 "cells": [
  {
   "cell_type": "code",
   "execution_count": 5,
   "metadata": {},
   "outputs": [],
   "source": [
    "import pandas as pd\n",
    "import sqlalchemy\n",
    "import sqlite3\n",
    "import requests\n",
    "from bs4 import BeautifulSoup\n",
    "import re\n",
    "import json"
   ]
  },
  {
   "cell_type": "code",
   "execution_count": 6,
   "metadata": {},
   "outputs": [],
   "source": [
    "data = pd.read_csv('../data/processed/glob_data.csv')"
   ]
  },
  {
   "cell_type": "code",
   "execution_count": 7,
   "metadata": {},
   "outputs": [],
   "source": [
    "def transform_data(data):\n",
    "    relevant_data = data[['country_code', 'normalized_job_code', 'age']]\n",
    "#    relevant_data = data[['uuid', 'age', 'country_code', 'normalized_job_code']]\n",
    "    relevant_data = relevant_data[relevant_data['normalized_job_code'].notna()]\n",
    "    #relevant_data['Quantity'] = relevant_data.groupby('normalized_job_code')['normalized_job_code'].transform('count')\n",
    "    relevant_data['Quantity'] = relevant_data.groupby('country_code','age')['normalized_job_code'].transform('value_counts')\n",
    "    relevant_data.rename(columns={'age': 'Age', 'country_code': 'Country', 'normalized_job_code': 'Job Title'},\n",
    "                       inplace=True)\n",
    "    relevant_data.set_index('Country')\n",
    "    return relevant_data"
   ]
  },
  {
   "cell_type": "code",
   "execution_count": 8,
   "metadata": {},
   "outputs": [
    {
     "ename": "ValueError",
     "evalue": "No axis named age for object type <class 'type'>",
     "output_type": "error",
     "traceback": [
      "\u001b[0;31m---------------------------------------------------------------------------\u001b[0m",
      "\u001b[0;31mValueError\u001b[0m                                Traceback (most recent call last)",
      "\u001b[0;32m<ipython-input-8-b8feb7e921f6>\u001b[0m in \u001b[0;36m<module>\u001b[0;34m\u001b[0m\n\u001b[0;32m----> 1\u001b[0;31m \u001b[0mrelevant_data\u001b[0m \u001b[0;34m=\u001b[0m \u001b[0mtransform_data\u001b[0m\u001b[0;34m(\u001b[0m\u001b[0mdata\u001b[0m\u001b[0;34m)\u001b[0m\u001b[0;34m\u001b[0m\u001b[0;34m\u001b[0m\u001b[0m\n\u001b[0m\u001b[1;32m      2\u001b[0m \u001b[0;31m#relevant_data = relevant_data[relevant_data['normalized_job_code'].notna()]\u001b[0m\u001b[0;34m\u001b[0m\u001b[0;34m\u001b[0m\u001b[0;34m\u001b[0m\u001b[0m\n\u001b[1;32m      3\u001b[0m \u001b[0mrelevant_data\u001b[0m\u001b[0;34m.\u001b[0m\u001b[0mhead\u001b[0m\u001b[0;34m(\u001b[0m\u001b[0;36m1\u001b[0m\u001b[0;34m)\u001b[0m\u001b[0;34m\u001b[0m\u001b[0;34m\u001b[0m\u001b[0m\n",
      "\u001b[0;32m<ipython-input-7-8092bb01acc4>\u001b[0m in \u001b[0;36mtransform_data\u001b[0;34m(data)\u001b[0m\n\u001b[1;32m      4\u001b[0m     \u001b[0mrelevant_data\u001b[0m \u001b[0;34m=\u001b[0m \u001b[0mrelevant_data\u001b[0m\u001b[0;34m[\u001b[0m\u001b[0mrelevant_data\u001b[0m\u001b[0;34m[\u001b[0m\u001b[0;34m'normalized_job_code'\u001b[0m\u001b[0;34m]\u001b[0m\u001b[0;34m.\u001b[0m\u001b[0mnotna\u001b[0m\u001b[0;34m(\u001b[0m\u001b[0;34m)\u001b[0m\u001b[0;34m]\u001b[0m\u001b[0;34m\u001b[0m\u001b[0;34m\u001b[0m\u001b[0m\n\u001b[1;32m      5\u001b[0m     \u001b[0;31m#relevant_data['Quantity'] = relevant_data.groupby('normalized_job_code')['normalized_job_code'].transform('count')\u001b[0m\u001b[0;34m\u001b[0m\u001b[0;34m\u001b[0m\u001b[0;34m\u001b[0m\u001b[0m\n\u001b[0;32m----> 6\u001b[0;31m     \u001b[0mrelevant_data\u001b[0m\u001b[0;34m[\u001b[0m\u001b[0;34m'Quantity'\u001b[0m\u001b[0;34m]\u001b[0m \u001b[0;34m=\u001b[0m \u001b[0mrelevant_data\u001b[0m\u001b[0;34m.\u001b[0m\u001b[0mgroupby\u001b[0m\u001b[0;34m(\u001b[0m\u001b[0;34m'country_code'\u001b[0m\u001b[0;34m,\u001b[0m\u001b[0;34m'age'\u001b[0m\u001b[0;34m)\u001b[0m\u001b[0;34m[\u001b[0m\u001b[0;34m'normalized_job_code'\u001b[0m\u001b[0;34m]\u001b[0m\u001b[0;34m.\u001b[0m\u001b[0mtransform\u001b[0m\u001b[0;34m(\u001b[0m\u001b[0;34m'value_counts'\u001b[0m\u001b[0;34m)\u001b[0m\u001b[0;34m\u001b[0m\u001b[0;34m\u001b[0m\u001b[0m\n\u001b[0m\u001b[1;32m      7\u001b[0m     relevant_data.rename(columns={'age': 'Age', 'country_code': 'Country', 'normalized_job_code': 'Job Title'},\n\u001b[1;32m      8\u001b[0m                        inplace=True)\n",
      "\u001b[0;32m~/miniconda3/envs/lab_env/lib/python3.7/site-packages/pandas/core/generic.py\u001b[0m in \u001b[0;36mgroupby\u001b[0;34m(self, by, axis, level, as_index, sort, group_keys, squeeze, observed, **kwargs)\u001b[0m\n\u001b[1;32m   7627\u001b[0m         \u001b[0;32mif\u001b[0m \u001b[0mlevel\u001b[0m \u001b[0;32mis\u001b[0m \u001b[0;32mNone\u001b[0m \u001b[0;32mand\u001b[0m \u001b[0mby\u001b[0m \u001b[0;32mis\u001b[0m \u001b[0;32mNone\u001b[0m\u001b[0;34m:\u001b[0m\u001b[0;34m\u001b[0m\u001b[0;34m\u001b[0m\u001b[0m\n\u001b[1;32m   7628\u001b[0m             \u001b[0;32mraise\u001b[0m \u001b[0mTypeError\u001b[0m\u001b[0;34m(\u001b[0m\u001b[0;34m\"You have to supply one of 'by' and 'level'\"\u001b[0m\u001b[0;34m)\u001b[0m\u001b[0;34m\u001b[0m\u001b[0;34m\u001b[0m\u001b[0m\n\u001b[0;32m-> 7629\u001b[0;31m         \u001b[0maxis\u001b[0m \u001b[0;34m=\u001b[0m \u001b[0mself\u001b[0m\u001b[0;34m.\u001b[0m\u001b[0m_get_axis_number\u001b[0m\u001b[0;34m(\u001b[0m\u001b[0maxis\u001b[0m\u001b[0;34m)\u001b[0m\u001b[0;34m\u001b[0m\u001b[0;34m\u001b[0m\u001b[0m\n\u001b[0m\u001b[1;32m   7630\u001b[0m         return groupby(self, by=by, axis=axis, level=level, as_index=as_index,\n\u001b[1;32m   7631\u001b[0m                        \u001b[0msort\u001b[0m\u001b[0;34m=\u001b[0m\u001b[0msort\u001b[0m\u001b[0;34m,\u001b[0m \u001b[0mgroup_keys\u001b[0m\u001b[0;34m=\u001b[0m\u001b[0mgroup_keys\u001b[0m\u001b[0;34m,\u001b[0m \u001b[0msqueeze\u001b[0m\u001b[0;34m=\u001b[0m\u001b[0msqueeze\u001b[0m\u001b[0;34m,\u001b[0m\u001b[0;34m\u001b[0m\u001b[0;34m\u001b[0m\u001b[0m\n",
      "\u001b[0;32m~/miniconda3/envs/lab_env/lib/python3.7/site-packages/pandas/core/generic.py\u001b[0m in \u001b[0;36m_get_axis_number\u001b[0;34m(cls, axis)\u001b[0m\n\u001b[1;32m    359\u001b[0m                 \u001b[0;32mpass\u001b[0m\u001b[0;34m\u001b[0m\u001b[0;34m\u001b[0m\u001b[0m\n\u001b[1;32m    360\u001b[0m         raise ValueError('No axis named {0} for object type {1}'\n\u001b[0;32m--> 361\u001b[0;31m                          .format(axis, type(cls)))\n\u001b[0m\u001b[1;32m    362\u001b[0m \u001b[0;34m\u001b[0m\u001b[0m\n\u001b[1;32m    363\u001b[0m     \u001b[0;34m@\u001b[0m\u001b[0mclassmethod\u001b[0m\u001b[0;34m\u001b[0m\u001b[0;34m\u001b[0m\u001b[0m\n",
      "\u001b[0;31mValueError\u001b[0m: No axis named age for object type <class 'type'>"
     ]
    }
   ],
   "source": [
    "relevant_data = transform_data(data)\n",
    "#relevant_data = relevant_data[relevant_data['normalized_job_code'].notna()]\n",
    "relevant_data.head(1)"
   ]
  },
  {
   "cell_type": "code",
   "execution_count": 10,
   "metadata": {},
   "outputs": [],
   "source": [
    "def country_name_import(relevant_data):\n",
    "    scrap_url = 'https://ec.europa.eu/eurostat/statistics-explained/index.php/Glossary:Country_codes'\n",
    "    html = requests.get(scrap_url).content\n",
    "    soup = BeautifulSoup(html, 'lxml')\n",
    "    table = soup.find_all('td')\n",
    "\n",
    "    # Scrap countries list and cleaning some mess\n",
    "    codes = [i.text.strip() for i in table]\n",
    "    pre_codes_clean = [i for i in codes if i != \"\"]\n",
    "    codes_clean = [re.sub(r'\\b[()]|[()]\\b', '', code) for code in pre_codes_clean]\n",
    "    codes_clean[3] = codes_clean[3].replace('EL', 'GR')\n",
    "    codes_clean[55] = codes_clean[55].replace('UK', 'GB')\n",
    "\n",
    "    # List to Dict and replace values into the column\n",
    "    countries_codes = {codes_clean[i + 1]: codes_clean[i] for i in range(0, len(codes_clean), 2)}\n",
    "    clean_data = relevant_data\n",
    "    #clean_data.dropna(inplace=True) \n",
    "    clean_data['Country'].replace(countries_codes, inplace=True)\n",
    "    \n",
    "    return clean_data, countries_codes"
   ]
  },
  {
   "cell_type": "code",
   "execution_count": 11,
   "metadata": {},
   "outputs": [],
   "source": [
    "clean_data, countries_codes = country_name_import(relevant_data)"
   ]
  },
  {
   "cell_type": "code",
   "execution_count": 9,
   "metadata": {},
   "outputs": [],
   "source": [
    "#clean_data['Quantity'] = clean_data.apply(lambda row: row.normalized_job_code., axis = 1) \n",
    "#clean_data['Quantity3'] = df['Data3'].groupby(df['Date']).transform('count')\n",
    "#clean_data['Quantity2'] = 1\n",
    "#clean_data['Quantity'] = clean_data.groupby('normalized_job_code')['normalized_job_code'].transform('count') "
   ]
  },
  {
   "cell_type": "code",
   "execution_count": 17,
   "metadata": {},
   "outputs": [],
   "source": [
    "def finding_job(clean_data, job_title):\n",
    "    \n",
    "    for code in clean_data['Job Title']:\n",
    "           \n",
    "        api_url = f'http://api.dataatwork.org/v1/jobs/' + code\n",
    "        response = requests.get(api_url).json()\n",
    "\n",
    "        if response['title'] == job_title:\n",
    "            key_uuid = response['uuid']\n",
    "            break\n",
    "    \n",
    "    return {key_uuid: job_title}"
   ]
  },
  {
   "cell_type": "code",
   "execution_count": 18,
   "metadata": {},
   "outputs": [],
   "source": [
    "#Select_jobs triggers the functions and finds the uuid tied to job selected and returns {uuid: job_title}\n",
    "def job_data(clean_data):\n",
    "    select_job = finding_job(clean_data, 'Data Scientist')\n",
    "    key_uuid = list(select_job.keys())[0]\n",
    "    \n",
    "    return select_job, key_uuid"
   ]
  },
  {
   "cell_type": "code",
   "execution_count": 19,
   "metadata": {},
   "outputs": [],
   "source": [
    "select_job, key_uuid = job_data(clean_data)"
   ]
  },
  {
   "cell_type": "code",
   "execution_count": 23,
   "metadata": {},
   "outputs": [],
   "source": [
    "def job_filtering(clean_data, normalized_job_code, key_uuid):\n",
    "    job_filter = clean_data['Job Title'] == key_uuid\n",
    "    filtered_data = clean_data[job_filter]\n",
    "    filtered_data['Job Title'].replace(select_job, inplace=True)\n",
    "    \n",
    "    return filtered_data"
   ]
  },
  {
   "cell_type": "code",
   "execution_count": 24,
   "metadata": {},
   "outputs": [
    {
     "name": "stderr",
     "output_type": "stream",
     "text": [
      "/home/sergio/miniconda3/envs/lab_env/lib/python3.7/site-packages/pandas/core/generic.py:6586: SettingWithCopyWarning: \n",
      "A value is trying to be set on a copy of a slice from a DataFrame\n",
      "\n",
      "See the caveats in the documentation: http://pandas.pydata.org/pandas-docs/stable/indexing.html#indexing-view-versus-copy\n",
      "  self._update_inplace(new_data)\n"
     ]
    }
   ],
   "source": [
    "filtered_data = job_filtering(clean_data, 'Job Title', key_uuid)\n"
   ]
  },
  {
   "cell_type": "code",
   "execution_count": 25,
   "metadata": {},
   "outputs": [
    {
     "name": "stdout",
     "output_type": "stream",
     "text": [
      "     Country       Job Title\n",
      "206  Belgium  Data Scientist\n",
      "214  Belgium  Data Scientist\n",
      "249  Belgium  Data Scientist\n"
     ]
    }
   ],
   "source": [
    "print(filtered_data[['Country','Job Title']].head(3))"
   ]
  },
  {
   "cell_type": "code",
   "execution_count": 17,
   "metadata": {},
   "outputs": [],
   "source": [
    "#filtered_data.to_csv(f'../data/processed/filtered_data.csv', index=False)"
   ]
  },
  {
   "cell_type": "code",
   "execution_count": 32,
   "metadata": {},
   "outputs": [],
   "source": [
    "def country_filter(dataframe, col, value):\n",
    "    filter_country = dataframe[col] == value\n",
    "    filtered_country = dataframe[filter_country]\n",
    "    return filtered_country"
   ]
  },
  {
   "cell_type": "code",
   "execution_count": 33,
   "metadata": {},
   "outputs": [],
   "source": [
    "#At this point, you could choose Filtering by country or not. ie Spain. If empty, selects all.\n",
    "def country_filtering(filtered_data, country, countries_codes):\n",
    "    print(country)\n",
    "    if country == 'All_countries':\n",
    "        return filtered_data\n",
    "    elif country in countries_codes.values():\n",
    "        filtered_data = country_filter(filtered_data, 'Country', country)\n",
    "        return filtered_data\n",
    "    else:\n",
    "        print('Error: country name not included in the database or type error')"
   ]
  },
  {
   "cell_type": "code",
   "execution_count": 53,
   "metadata": {},
   "outputs": [
    {
     "name": "stdout",
     "output_type": "stream",
     "text": [
      "All_countries\n"
     ]
    }
   ],
   "source": [
    "country = 'All_countries'\n",
    "filtered_data = country_filtering(filtered_data, country, countries_codes)"
   ]
  },
  {
   "cell_type": "code",
   "execution_count": 54,
   "metadata": {},
   "outputs": [],
   "source": [
    "\n",
    "filtered_data = filtered_data.reset_index(drop=True)"
   ]
  },
  {
   "cell_type": "code",
   "execution_count": 55,
   "metadata": {},
   "outputs": [
    {
     "data": {
      "text/html": [
       "<div>\n",
       "<style scoped>\n",
       "    .dataframe tbody tr th:only-of-type {\n",
       "        vertical-align: middle;\n",
       "    }\n",
       "\n",
       "    .dataframe tbody tr th {\n",
       "        vertical-align: top;\n",
       "    }\n",
       "\n",
       "    .dataframe thead th {\n",
       "        text-align: right;\n",
       "    }\n",
       "</style>\n",
       "<table border=\"1\" class=\"dataframe\">\n",
       "  <thead>\n",
       "    <tr style=\"text-align: right;\">\n",
       "      <th></th>\n",
       "      <th>Country</th>\n",
       "      <th>Job Title</th>\n",
       "      <th>Age</th>\n",
       "      <th>Quantity</th>\n",
       "      <th>Percentage</th>\n",
       "    </tr>\n",
       "  </thead>\n",
       "  <tbody>\n",
       "    <tr>\n",
       "      <th>0</th>\n",
       "      <td>Spain</td>\n",
       "      <td>Data Scientist</td>\n",
       "      <td>51</td>\n",
       "      <td>67</td>\n",
       "      <td>1.175026</td>\n",
       "    </tr>\n",
       "    <tr>\n",
       "      <th>1</th>\n",
       "      <td>Spain</td>\n",
       "      <td>Data Scientist</td>\n",
       "      <td>47</td>\n",
       "      <td>67</td>\n",
       "      <td>1.175026</td>\n",
       "    </tr>\n",
       "    <tr>\n",
       "      <th>2</th>\n",
       "      <td>Spain</td>\n",
       "      <td>Data Scientist</td>\n",
       "      <td>40</td>\n",
       "      <td>67</td>\n",
       "      <td>1.175026</td>\n",
       "    </tr>\n",
       "    <tr>\n",
       "      <th>3</th>\n",
       "      <td>Spain</td>\n",
       "      <td>Data Scientist</td>\n",
       "      <td>35</td>\n",
       "      <td>67</td>\n",
       "      <td>1.175026</td>\n",
       "    </tr>\n",
       "    <tr>\n",
       "      <th>4</th>\n",
       "      <td>Spain</td>\n",
       "      <td>Data Scientist</td>\n",
       "      <td>27</td>\n",
       "      <td>67</td>\n",
       "      <td>1.175026</td>\n",
       "    </tr>\n",
       "    <tr>\n",
       "      <th>5</th>\n",
       "      <td>Spain</td>\n",
       "      <td>Data Scientist</td>\n",
       "      <td>40</td>\n",
       "      <td>67</td>\n",
       "      <td>1.175026</td>\n",
       "    </tr>\n",
       "    <tr>\n",
       "      <th>6</th>\n",
       "      <td>Spain</td>\n",
       "      <td>Data Scientist</td>\n",
       "      <td>23</td>\n",
       "      <td>67</td>\n",
       "      <td>1.175026</td>\n",
       "    </tr>\n",
       "  </tbody>\n",
       "</table>\n",
       "</div>"
      ],
      "text/plain": [
       "  Country       Job Title  Age  Quantity  Percentage\n",
       "0   Spain  Data Scientist   51        67    1.175026\n",
       "1   Spain  Data Scientist   47        67    1.175026\n",
       "2   Spain  Data Scientist   40        67    1.175026\n",
       "3   Spain  Data Scientist   35        67    1.175026\n",
       "4   Spain  Data Scientist   27        67    1.175026\n",
       "5   Spain  Data Scientist   40        67    1.175026\n",
       "6   Spain  Data Scientist   23        67    1.175026"
      ]
     },
     "execution_count": 55,
     "metadata": {},
     "output_type": "execute_result"
    }
   ],
   "source": [
    "filtered_data.head(10)"
   ]
  },
  {
   "cell_type": "code",
   "execution_count": 56,
   "metadata": {},
   "outputs": [],
   "source": [
    "def percentage_func(filtered_data):\n",
    "    filtered_data['Percentage'] = filtered_data['Quantity'] / len(clean_data) * 100\n",
    "    return filtered_data\n"
   ]
  },
  {
   "cell_type": "code",
   "execution_count": 57,
   "metadata": {},
   "outputs": [
    {
     "data": {
      "text/plain": [
       "67"
      ]
     },
     "execution_count": 57,
     "metadata": {},
     "output_type": "execute_result"
    }
   ],
   "source": [
    "wa = filtered_data.at[0,'Quantity']\n",
    "wa"
   ]
  },
  {
   "cell_type": "code",
   "execution_count": 58,
   "metadata": {},
   "outputs": [],
   "source": [
    "filtered_data['Percentage'] = filtered_data.at[0,'Quantity'] / len(clean_data) * 100\n"
   ]
  },
  {
   "cell_type": "code",
   "execution_count": 59,
   "metadata": {},
   "outputs": [],
   "source": [
    "#https://stackoverflow.com/questions/20625582/how-to-deal-with-settingwithcopywarning-in-pandas"
   ]
  },
  {
   "cell_type": "code",
   "execution_count": 60,
   "metadata": {},
   "outputs": [
    {
     "data": {
      "text/html": [
       "<div>\n",
       "<style scoped>\n",
       "    .dataframe tbody tr th:only-of-type {\n",
       "        vertical-align: middle;\n",
       "    }\n",
       "\n",
       "    .dataframe tbody tr th {\n",
       "        vertical-align: top;\n",
       "    }\n",
       "\n",
       "    .dataframe thead th {\n",
       "        text-align: right;\n",
       "    }\n",
       "</style>\n",
       "<table border=\"1\" class=\"dataframe\">\n",
       "  <thead>\n",
       "    <tr style=\"text-align: right;\">\n",
       "      <th></th>\n",
       "      <th>Country</th>\n",
       "      <th>Job Title</th>\n",
       "      <th>Age</th>\n",
       "      <th>Quantity</th>\n",
       "      <th>Percentage</th>\n",
       "    </tr>\n",
       "  </thead>\n",
       "  <tbody>\n",
       "    <tr>\n",
       "      <th>0</th>\n",
       "      <td>Spain</td>\n",
       "      <td>Data Scientist</td>\n",
       "      <td>51</td>\n",
       "      <td>67</td>\n",
       "      <td>1.175026</td>\n",
       "    </tr>\n",
       "    <tr>\n",
       "      <th>1</th>\n",
       "      <td>Spain</td>\n",
       "      <td>Data Scientist</td>\n",
       "      <td>47</td>\n",
       "      <td>67</td>\n",
       "      <td>1.175026</td>\n",
       "    </tr>\n",
       "    <tr>\n",
       "      <th>2</th>\n",
       "      <td>Spain</td>\n",
       "      <td>Data Scientist</td>\n",
       "      <td>40</td>\n",
       "      <td>67</td>\n",
       "      <td>1.175026</td>\n",
       "    </tr>\n",
       "    <tr>\n",
       "      <th>3</th>\n",
       "      <td>Spain</td>\n",
       "      <td>Data Scientist</td>\n",
       "      <td>35</td>\n",
       "      <td>67</td>\n",
       "      <td>1.175026</td>\n",
       "    </tr>\n",
       "    <tr>\n",
       "      <th>4</th>\n",
       "      <td>Spain</td>\n",
       "      <td>Data Scientist</td>\n",
       "      <td>27</td>\n",
       "      <td>67</td>\n",
       "      <td>1.175026</td>\n",
       "    </tr>\n",
       "  </tbody>\n",
       "</table>\n",
       "</div>"
      ],
      "text/plain": [
       "  Country       Job Title  Age  Quantity  Percentage\n",
       "0   Spain  Data Scientist   51        67    1.175026\n",
       "1   Spain  Data Scientist   47        67    1.175026\n",
       "2   Spain  Data Scientist   40        67    1.175026\n",
       "3   Spain  Data Scientist   35        67    1.175026\n",
       "4   Spain  Data Scientist   27        67    1.175026"
      ]
     },
     "execution_count": 60,
     "metadata": {},
     "output_type": "execute_result"
    }
   ],
   "source": [
    "filtered_data.head(5)"
   ]
  },
  {
   "cell_type": "code",
   "execution_count": 61,
   "metadata": {},
   "outputs": [
    {
     "name": "stdout",
     "output_type": "stream",
     "text": [
      "All_countries\n"
     ]
    }
   ],
   "source": [
    "country = 'All_countries'\n",
    "filtered_data_all = country_filtering(filtered_data, country, countries_codes)"
   ]
  },
  {
   "cell_type": "code",
   "execution_count": 62,
   "metadata": {},
   "outputs": [],
   "source": [
    "filtered_data_all = filtered_data_all.reset_index(drop=True)"
   ]
  },
  {
   "cell_type": "code",
   "execution_count": 63,
   "metadata": {},
   "outputs": [
    {
     "data": {
      "text/html": [
       "<div>\n",
       "<style scoped>\n",
       "    .dataframe tbody tr th:only-of-type {\n",
       "        vertical-align: middle;\n",
       "    }\n",
       "\n",
       "    .dataframe tbody tr th {\n",
       "        vertical-align: top;\n",
       "    }\n",
       "\n",
       "    .dataframe thead th {\n",
       "        text-align: right;\n",
       "    }\n",
       "</style>\n",
       "<table border=\"1\" class=\"dataframe\">\n",
       "  <thead>\n",
       "    <tr style=\"text-align: right;\">\n",
       "      <th></th>\n",
       "      <th>Country</th>\n",
       "      <th>Job Title</th>\n",
       "      <th>Age</th>\n",
       "      <th>Quantity</th>\n",
       "      <th>Percentage</th>\n",
       "    </tr>\n",
       "  </thead>\n",
       "  <tbody>\n",
       "    <tr>\n",
       "      <th>0</th>\n",
       "      <td>Spain</td>\n",
       "      <td>Data Scientist</td>\n",
       "      <td>51</td>\n",
       "      <td>67</td>\n",
       "      <td>1.175026</td>\n",
       "    </tr>\n",
       "    <tr>\n",
       "      <th>1</th>\n",
       "      <td>Spain</td>\n",
       "      <td>Data Scientist</td>\n",
       "      <td>47</td>\n",
       "      <td>67</td>\n",
       "      <td>1.175026</td>\n",
       "    </tr>\n",
       "    <tr>\n",
       "      <th>2</th>\n",
       "      <td>Spain</td>\n",
       "      <td>Data Scientist</td>\n",
       "      <td>40</td>\n",
       "      <td>67</td>\n",
       "      <td>1.175026</td>\n",
       "    </tr>\n",
       "    <tr>\n",
       "      <th>3</th>\n",
       "      <td>Spain</td>\n",
       "      <td>Data Scientist</td>\n",
       "      <td>35</td>\n",
       "      <td>67</td>\n",
       "      <td>1.175026</td>\n",
       "    </tr>\n",
       "    <tr>\n",
       "      <th>4</th>\n",
       "      <td>Spain</td>\n",
       "      <td>Data Scientist</td>\n",
       "      <td>27</td>\n",
       "      <td>67</td>\n",
       "      <td>1.175026</td>\n",
       "    </tr>\n",
       "    <tr>\n",
       "      <th>5</th>\n",
       "      <td>Spain</td>\n",
       "      <td>Data Scientist</td>\n",
       "      <td>40</td>\n",
       "      <td>67</td>\n",
       "      <td>1.175026</td>\n",
       "    </tr>\n",
       "    <tr>\n",
       "      <th>6</th>\n",
       "      <td>Spain</td>\n",
       "      <td>Data Scientist</td>\n",
       "      <td>23</td>\n",
       "      <td>67</td>\n",
       "      <td>1.175026</td>\n",
       "    </tr>\n",
       "  </tbody>\n",
       "</table>\n",
       "</div>"
      ],
      "text/plain": [
       "  Country       Job Title  Age  Quantity  Percentage\n",
       "0   Spain  Data Scientist   51        67    1.175026\n",
       "1   Spain  Data Scientist   47        67    1.175026\n",
       "2   Spain  Data Scientist   40        67    1.175026\n",
       "3   Spain  Data Scientist   35        67    1.175026\n",
       "4   Spain  Data Scientist   27        67    1.175026\n",
       "5   Spain  Data Scientist   40        67    1.175026\n",
       "6   Spain  Data Scientist   23        67    1.175026"
      ]
     },
     "execution_count": 63,
     "metadata": {},
     "output_type": "execute_result"
    }
   ],
   "source": [
    "filtered_data_all.head(10)"
   ]
  },
  {
   "cell_type": "code",
   "execution_count": null,
   "metadata": {},
   "outputs": [],
   "source": []
  },
  {
   "cell_type": "code",
   "execution_count": 28,
   "metadata": {},
   "outputs": [
    {
     "data": {
      "text/html": [
       "<div>\n",
       "<style scoped>\n",
       "    .dataframe tbody tr th:only-of-type {\n",
       "        vertical-align: middle;\n",
       "    }\n",
       "\n",
       "    .dataframe tbody tr th {\n",
       "        vertical-align: top;\n",
       "    }\n",
       "\n",
       "    .dataframe thead th {\n",
       "        text-align: right;\n",
       "    }\n",
       "</style>\n",
       "<table border=\"1\" class=\"dataframe\">\n",
       "  <thead>\n",
       "    <tr style=\"text-align: right;\">\n",
       "      <th></th>\n",
       "      <th>uuid</th>\n",
       "      <th>age</th>\n",
       "      <th>country_code</th>\n",
       "      <th>normalized_job_code</th>\n",
       "    </tr>\n",
       "  </thead>\n",
       "  <tbody>\n",
       "    <tr>\n",
       "      <th>0</th>\n",
       "      <td>78156750-d949-0133-1a02-0a81e8b09a82</td>\n",
       "      <td>21</td>\n",
       "      <td>Belgium</td>\n",
       "      <td>Data Scientist</td>\n",
       "    </tr>\n",
       "    <tr>\n",
       "      <th>1</th>\n",
       "      <td>92c27100-d9d0-0133-c4db-0a81e8b09a82</td>\n",
       "      <td>43</td>\n",
       "      <td>Belgium</td>\n",
       "      <td>Data Scientist</td>\n",
       "    </tr>\n",
       "    <tr>\n",
       "      <th>2</th>\n",
       "      <td>f30223b0-d950-0133-5b67-0a81e8b09a82</td>\n",
       "      <td>50</td>\n",
       "      <td>Belgium</td>\n",
       "      <td>Data Scientist</td>\n",
       "    </tr>\n",
       "    <tr>\n",
       "      <th>3</th>\n",
       "      <td>5bbb2320-db06-0133-c0ce-0a81e8b09a82</td>\n",
       "      <td>20</td>\n",
       "      <td>Belgium</td>\n",
       "      <td>Data Scientist</td>\n",
       "    </tr>\n",
       "    <tr>\n",
       "      <th>4</th>\n",
       "      <td>5f1b17e0-d97f-0133-f63f-0a81e8b09a82</td>\n",
       "      <td>38</td>\n",
       "      <td>Czechia</td>\n",
       "      <td>Data Scientist</td>\n",
       "    </tr>\n",
       "  </tbody>\n",
       "</table>\n",
       "</div>"
      ],
      "text/plain": [
       "                                   uuid  age country_code normalized_job_code\n",
       "0  78156750-d949-0133-1a02-0a81e8b09a82   21      Belgium      Data Scientist\n",
       "1  92c27100-d9d0-0133-c4db-0a81e8b09a82   43      Belgium      Data Scientist\n",
       "2  f30223b0-d950-0133-5b67-0a81e8b09a82   50      Belgium      Data Scientist\n",
       "3  5bbb2320-db06-0133-c0ce-0a81e8b09a82   20      Belgium      Data Scientist\n",
       "4  5f1b17e0-d97f-0133-f63f-0a81e8b09a82   38      Czechia      Data Scientist"
      ]
     },
     "execution_count": 28,
     "metadata": {},
     "output_type": "execute_result"
    }
   ],
   "source": [
    "data_testeo = pd.read_csv('../data/processed/filtered_data.csv')\n",
    "data_testeo.head()\n"
   ]
  },
  {
   "cell_type": "code",
   "execution_count": 29,
   "metadata": {},
   "outputs": [
    {
     "data": {
      "text/plain": [
       "False"
      ]
     },
     "execution_count": 29,
     "metadata": {},
     "output_type": "execute_result"
    }
   ],
   "source": [
    "len(data_testeo['country_code']) == 'Spain'"
   ]
  },
  {
   "cell_type": "code",
   "execution_count": 30,
   "metadata": {},
   "outputs": [],
   "source": [
    "def percentage_func(col):\n",
    "    len(data_testo['country_code']) == Spain\n",
    "    \n",
    "    return len(data_testeo['uuid'])\n"
   ]
  },
  {
   "cell_type": "code",
   "execution_count": 31,
   "metadata": {},
   "outputs": [
    {
     "data": {
      "text/html": [
       "<div>\n",
       "<style scoped>\n",
       "    .dataframe tbody tr th:only-of-type {\n",
       "        vertical-align: middle;\n",
       "    }\n",
       "\n",
       "    .dataframe tbody tr th {\n",
       "        vertical-align: top;\n",
       "    }\n",
       "\n",
       "    .dataframe thead th {\n",
       "        text-align: right;\n",
       "    }\n",
       "</style>\n",
       "<table border=\"1\" class=\"dataframe\">\n",
       "  <thead>\n",
       "    <tr style=\"text-align: right;\">\n",
       "      <th></th>\n",
       "      <th>uuid</th>\n",
       "      <th>Age</th>\n",
       "      <th>Country</th>\n",
       "      <th>Job Title</th>\n",
       "    </tr>\n",
       "  </thead>\n",
       "  <tbody>\n",
       "    <tr>\n",
       "      <th>0</th>\n",
       "      <td>78156750-d949-0133-1a02-0a81e8b09a82</td>\n",
       "      <td>21</td>\n",
       "      <td>Belgium</td>\n",
       "      <td>Data Scientist</td>\n",
       "    </tr>\n",
       "    <tr>\n",
       "      <th>1</th>\n",
       "      <td>92c27100-d9d0-0133-c4db-0a81e8b09a82</td>\n",
       "      <td>43</td>\n",
       "      <td>Belgium</td>\n",
       "      <td>Data Scientist</td>\n",
       "    </tr>\n",
       "    <tr>\n",
       "      <th>2</th>\n",
       "      <td>f30223b0-d950-0133-5b67-0a81e8b09a82</td>\n",
       "      <td>50</td>\n",
       "      <td>Belgium</td>\n",
       "      <td>Data Scientist</td>\n",
       "    </tr>\n",
       "    <tr>\n",
       "      <th>3</th>\n",
       "      <td>5bbb2320-db06-0133-c0ce-0a81e8b09a82</td>\n",
       "      <td>20</td>\n",
       "      <td>Belgium</td>\n",
       "      <td>Data Scientist</td>\n",
       "    </tr>\n",
       "    <tr>\n",
       "      <th>4</th>\n",
       "      <td>5f1b17e0-d97f-0133-f63f-0a81e8b09a82</td>\n",
       "      <td>38</td>\n",
       "      <td>Czechia</td>\n",
       "      <td>Data Scientist</td>\n",
       "    </tr>\n",
       "  </tbody>\n",
       "</table>\n",
       "</div>"
      ],
      "text/plain": [
       "                                   uuid  Age  Country       Job Title\n",
       "0  78156750-d949-0133-1a02-0a81e8b09a82   21  Belgium  Data Scientist\n",
       "1  92c27100-d9d0-0133-c4db-0a81e8b09a82   43  Belgium  Data Scientist\n",
       "2  f30223b0-d950-0133-5b67-0a81e8b09a82   50  Belgium  Data Scientist\n",
       "3  5bbb2320-db06-0133-c0ce-0a81e8b09a82   20  Belgium  Data Scientist\n",
       "4  5f1b17e0-d97f-0133-f63f-0a81e8b09a82   38  Czechia  Data Scientist"
      ]
     },
     "execution_count": 31,
     "metadata": {},
     "output_type": "execute_result"
    }
   ],
   "source": [
    "data_testeo.rename(columns={'age': 'Age', 'country_code': 'Country', 'normalized_job_code': 'Job Title'}, inplace=True) \n",
    "data_testeo.head()"
   ]
  },
  {
   "cell_type": "code",
   "execution_count": 25,
   "metadata": {},
   "outputs": [],
   "source": [
    "def quantity_func(col):\n",
    "    return col.value_counts()\n"
   ]
  },
  {
   "cell_type": "code",
   "execution_count": null,
   "metadata": {},
   "outputs": [],
   "source": [
    "['Quantity'] = clean_data.groupby('Job Title')['Job Title','Country', 'Age'].transform('count')\n",
    "    clean_data = clean_data['Country', 'Age', 'Job Title', 'Quantity']"
   ]
  },
  {
   "cell_type": "code",
   "execution_count": 28,
   "metadata": {},
   "outputs": [],
   "source": [
    "def analyze(filtered_data):\n",
    "    result = filtered_data.groupby(['Country', 'Age'])['Job Title'].agg(quantity_func).reset_index()\n",
    "    print(result)\n",
    "    return result"
   ]
  },
  {
   "cell_type": "code",
   "execution_count": 29,
   "metadata": {},
   "outputs": [
    {
     "name": "stdout",
     "output_type": "stream",
     "text": [
      "           Country  Age  Job Title\n",
      "0          Belgium   20          1\n",
      "1          Belgium   21          1\n",
      "2          Belgium   43          1\n",
      "3          Belgium   50          1\n",
      "4          Czechia   38          1\n",
      "5          Denmark   25          1\n",
      "6          Finland   44          1\n",
      "7           France   16          1\n",
      "8           France   21          1\n",
      "9           France   39          1\n",
      "10          France   43          1\n",
      "11          France   44          2\n",
      "12          France   48          1\n",
      "13         Germany   35          1\n",
      "14         Germany   36          2\n",
      "15         Germany   44          1\n",
      "16         Germany   48          1\n",
      "17         Germany   49          1\n",
      "18         Germany   50          1\n",
      "19         Germany   51          1\n",
      "20          Greece   39          1\n",
      "21          Greece   48          1\n",
      "22         Ireland   38          1\n",
      "23           Italy   18          1\n",
      "24           Italy   27          1\n",
      "25           Italy   29          1\n",
      "26           Italy   30          1\n",
      "27           Italy   32          1\n",
      "28           Italy   33          1\n",
      "29           Italy   37          2\n",
      "..             ...  ...        ...\n",
      "33           Italy   47          1\n",
      "34           Malta   40          1\n",
      "35     Netherlands   22          1\n",
      "36     Netherlands   32          1\n",
      "37     Netherlands   51          1\n",
      "38          Poland   54          1\n",
      "39          Poland   55          1\n",
      "40        Portugal   39          1\n",
      "41        Portugal   44          1\n",
      "42        Portugal   45          1\n",
      "43        Portugal   52          1\n",
      "44        Slovakia   48          1\n",
      "45        Slovakia   49          1\n",
      "46        Slovakia   51          1\n",
      "47           Spain   23          1\n",
      "48           Spain   27          1\n",
      "49           Spain   35          1\n",
      "50           Spain   40          2\n",
      "51           Spain   47          1\n",
      "52           Spain   51          1\n",
      "53          Sweden   35          1\n",
      "54          Sweden   41          1\n",
      "55  United Kingdom   22          1\n",
      "56  United Kingdom   29          1\n",
      "57  United Kingdom   30          1\n",
      "58  United Kingdom   35          1\n",
      "59  United Kingdom   36          1\n",
      "60  United Kingdom   45          1\n",
      "61  United Kingdom   50          1\n",
      "62  United Kingdom   59          1\n",
      "\n",
      "[63 rows x 3 columns]\n"
     ]
    }
   ],
   "source": [
    "result = analyze(data_testeo) "
   ]
  },
  {
   "cell_type": "code",
   "execution_count": 15,
   "metadata": {},
   "outputs": [
    {
     "data": {
      "text/plain": [
       "pandas.core.frame.DataFrame"
      ]
     },
     "execution_count": 15,
     "metadata": {},
     "output_type": "execute_result"
    }
   ],
   "source": [
    "type(result)"
   ]
  }
 ],
 "metadata": {
  "kernelspec": {
   "display_name": "Python [conda env:lab_env]",
   "language": "python",
   "name": "conda-env-lab_env-py"
  },
  "language_info": {
   "codemirror_mode": {
    "name": "ipython",
    "version": 3
   },
   "file_extension": ".py",
   "mimetype": "text/x-python",
   "name": "python",
   "nbconvert_exporter": "python",
   "pygments_lexer": "ipython3",
   "version": "3.7.3"
  }
 },
 "nbformat": 4,
 "nbformat_minor": 4
}
