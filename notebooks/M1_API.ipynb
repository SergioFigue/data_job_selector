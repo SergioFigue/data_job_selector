{
 "cells": [
  {
   "cell_type": "code",
   "execution_count": 2,
   "metadata": {},
   "outputs": [],
   "source": [
    "import json\n",
    "import requests\n",
    "import pandas as pd"
   ]
  },
  {
   "cell_type": "code",
   "execution_count": 28,
   "metadata": {},
   "outputs": [
    {
     "data": {
      "text/plain": [
       "[{'uuid': '26bc4486dfd0f60b3bb0d8d64e001800',\n",
       "  'title': '1st Grade Teacher',\n",
       "  'normalized_job_title': '1st grade teacher',\n",
       "  'parent_uuid': '51cc95467c1844c7dc1d923265c023b2'},\n",
       " {'uuid': '9be6e14491305132c175cb1781a3356c',\n",
       "  'title': '1st Pressman',\n",
       "  'normalized_job_title': '1st pressman',\n",
       "  'parent_uuid': '96f1cf15fe5880d8660c70f0756944ab'},\n",
       " {'uuid': 'd38d16bab3f9f25ae34ae3e2aad254d4',\n",
       "  'title': '1st Pressman On Web Press',\n",
       "  'normalized_job_title': '1st pressman on web press',\n",
       "  'parent_uuid': '96f1cf15fe5880d8660c70f0756944ab'},\n",
       " {'uuid': '8576a78b5c1cae3a567ca7fd34500357',\n",
       "  'title': '21 Dealer',\n",
       "  'normalized_job_title': '21 dealer',\n",
       "  'parent_uuid': '4be080220c824dcb435d59ebf1c3ce80'},\n",
       " {'uuid': 'a59278d7f653db37e54a270345a91a05',\n",
       "  'title': '2nd Grade Teacher',\n",
       "  'normalized_job_title': '2nd grade teacher',\n",
       "  'parent_uuid': '51cc95467c1844c7dc1d923265c023b2'}]"
      ]
     },
     "execution_count": 28,
     "metadata": {},
     "output_type": "execute_result"
    }
   ],
   "source": [
    "response = requests.get('http://api.dataatwork.org/v1/jobs')\n",
    "\n",
    "json_data = response.json()\n",
    "\n",
    "json_data[0:5]"
   ]
  },
  {
   "cell_type": "code",
   "execution_count": 29,
   "metadata": {},
   "outputs": [
    {
     "data": {
      "text/html": [
       "<div>\n",
       "<style scoped>\n",
       "    .dataframe tbody tr th:only-of-type {\n",
       "        vertical-align: middle;\n",
       "    }\n",
       "\n",
       "    .dataframe tbody tr th {\n",
       "        vertical-align: top;\n",
       "    }\n",
       "\n",
       "    .dataframe thead th {\n",
       "        text-align: right;\n",
       "    }\n",
       "</style>\n",
       "<table border=\"1\" class=\"dataframe\">\n",
       "  <thead>\n",
       "    <tr style=\"text-align: right;\">\n",
       "      <th></th>\n",
       "      <th>uuid</th>\n",
       "      <th>normalized_job_title</th>\n",
       "    </tr>\n",
       "  </thead>\n",
       "  <tbody>\n",
       "    <tr>\n",
       "      <th>0</th>\n",
       "      <td>26bc4486dfd0f60b3bb0d8d64e001800</td>\n",
       "      <td>1st grade teacher</td>\n",
       "    </tr>\n",
       "    <tr>\n",
       "      <th>1</th>\n",
       "      <td>9be6e14491305132c175cb1781a3356c</td>\n",
       "      <td>1st pressman</td>\n",
       "    </tr>\n",
       "    <tr>\n",
       "      <th>2</th>\n",
       "      <td>d38d16bab3f9f25ae34ae3e2aad254d4</td>\n",
       "      <td>1st pressman on web press</td>\n",
       "    </tr>\n",
       "    <tr>\n",
       "      <th>3</th>\n",
       "      <td>8576a78b5c1cae3a567ca7fd34500357</td>\n",
       "      <td>21 dealer</td>\n",
       "    </tr>\n",
       "    <tr>\n",
       "      <th>4</th>\n",
       "      <td>a59278d7f653db37e54a270345a91a05</td>\n",
       "      <td>2nd grade teacher</td>\n",
       "    </tr>\n",
       "    <tr>\n",
       "      <th>5</th>\n",
       "      <td>9c631442c4966cd3e5a9e52fc70aff1c</td>\n",
       "      <td>2nd pressman</td>\n",
       "    </tr>\n",
       "    <tr>\n",
       "      <th>6</th>\n",
       "      <td>f5a2151d370ebca7b49778e036a287e8</td>\n",
       "      <td>2 year olds preschool teacher</td>\n",
       "    </tr>\n",
       "    <tr>\n",
       "      <th>7</th>\n",
       "      <td>af2e31c2c64ae223b06eb7f0cbf59a98</td>\n",
       "      <td>3d animator</td>\n",
       "    </tr>\n",
       "    <tr>\n",
       "      <th>8</th>\n",
       "      <td>ac029293b0ea43f168b004c4f04fca31</td>\n",
       "      <td>3d artist</td>\n",
       "    </tr>\n",
       "    <tr>\n",
       "      <th>9</th>\n",
       "      <td>7d37dfe2eface4ae79db093b0a79385d</td>\n",
       "      <td>3d designer</td>\n",
       "    </tr>\n",
       "    <tr>\n",
       "      <th>10</th>\n",
       "      <td>6cb0a6786c08d6c91a4fc9f61e19f62d</td>\n",
       "      <td>3d modeler</td>\n",
       "    </tr>\n",
       "    <tr>\n",
       "      <th>11</th>\n",
       "      <td>ec45194ae348e1bb21415064364f038b</td>\n",
       "      <td>3d specialist</td>\n",
       "    </tr>\n",
       "    <tr>\n",
       "      <th>12</th>\n",
       "      <td>4266e89fcaf06973fa23fc6f75b27682</td>\n",
       "      <td>3d technologist</td>\n",
       "    </tr>\n",
       "    <tr>\n",
       "      <th>13</th>\n",
       "      <td>0cfb09fa1c6691fd6d77a3d3743fa8bc</td>\n",
       "      <td>3rd grade reading teacher</td>\n",
       "    </tr>\n",
       "    <tr>\n",
       "      <th>14</th>\n",
       "      <td>ac668f6dc8795ace795b2c1f7c889ba4</td>\n",
       "      <td>3rd grade teacher</td>\n",
       "    </tr>\n",
       "    <tr>\n",
       "      <th>15</th>\n",
       "      <td>7826ba3a7150817935915f63b861936b</td>\n",
       "      <td>3rd pressman</td>\n",
       "    </tr>\n",
       "    <tr>\n",
       "      <th>16</th>\n",
       "      <td>90bc1d89aaee33a96c1b70fef0750d62</td>\n",
       "      <td>411 directory assistance operator</td>\n",
       "    </tr>\n",
       "    <tr>\n",
       "      <th>17</th>\n",
       "      <td>814eb6844cf824e6945fb02a48f0e569</td>\n",
       "      <td>4h youth development specialist</td>\n",
       "    </tr>\n",
       "    <tr>\n",
       "      <th>18</th>\n",
       "      <td>772053d8bb2c6e127b0bf216e50285ed</td>\n",
       "      <td>4th grade math teacher</td>\n",
       "    </tr>\n",
       "    <tr>\n",
       "      <th>19</th>\n",
       "      <td>de0a3e90cdd112dd78120d4c8a9422b2</td>\n",
       "      <td>4th grade teacher</td>\n",
       "    </tr>\n",
       "    <tr>\n",
       "      <th>20</th>\n",
       "      <td>NaN</td>\n",
       "      <td>NaN</td>\n",
       "    </tr>\n",
       "  </tbody>\n",
       "</table>\n",
       "</div>"
      ],
      "text/plain": [
       "                                uuid               normalized_job_title\n",
       "0   26bc4486dfd0f60b3bb0d8d64e001800                  1st grade teacher\n",
       "1   9be6e14491305132c175cb1781a3356c                       1st pressman\n",
       "2   d38d16bab3f9f25ae34ae3e2aad254d4          1st pressman on web press\n",
       "3   8576a78b5c1cae3a567ca7fd34500357                          21 dealer\n",
       "4   a59278d7f653db37e54a270345a91a05                  2nd grade teacher\n",
       "5   9c631442c4966cd3e5a9e52fc70aff1c                       2nd pressman\n",
       "6   f5a2151d370ebca7b49778e036a287e8      2 year olds preschool teacher\n",
       "7   af2e31c2c64ae223b06eb7f0cbf59a98                        3d animator\n",
       "8   ac029293b0ea43f168b004c4f04fca31                          3d artist\n",
       "9   7d37dfe2eface4ae79db093b0a79385d                        3d designer\n",
       "10  6cb0a6786c08d6c91a4fc9f61e19f62d                         3d modeler\n",
       "11  ec45194ae348e1bb21415064364f038b                      3d specialist\n",
       "12  4266e89fcaf06973fa23fc6f75b27682                    3d technologist\n",
       "13  0cfb09fa1c6691fd6d77a3d3743fa8bc          3rd grade reading teacher\n",
       "14  ac668f6dc8795ace795b2c1f7c889ba4                  3rd grade teacher\n",
       "15  7826ba3a7150817935915f63b861936b                       3rd pressman\n",
       "16  90bc1d89aaee33a96c1b70fef0750d62  411 directory assistance operator\n",
       "17  814eb6844cf824e6945fb02a48f0e569    4h youth development specialist\n",
       "18  772053d8bb2c6e127b0bf216e50285ed             4th grade math teacher\n",
       "19  de0a3e90cdd112dd78120d4c8a9422b2                  4th grade teacher\n",
       "20                               NaN                                NaN"
      ]
     },
     "execution_count": 29,
     "metadata": {},
     "output_type": "execute_result"
    }
   ],
   "source": [
    "useful_data = data[['uuid', 'normalized_job_title']]\n",
    "useful_data"
   ]
  },
  {
   "cell_type": "code",
   "execution_count": 30,
   "metadata": {},
   "outputs": [
    {
     "data": {
      "text/plain": [
       "<bound method DataFrame.info of                                 uuid                              title  \\\n",
       "0   26bc4486dfd0f60b3bb0d8d64e001800                  1st Grade Teacher   \n",
       "1   9be6e14491305132c175cb1781a3356c                       1st Pressman   \n",
       "2   d38d16bab3f9f25ae34ae3e2aad254d4          1st Pressman On Web Press   \n",
       "3   8576a78b5c1cae3a567ca7fd34500357                          21 Dealer   \n",
       "4   a59278d7f653db37e54a270345a91a05                  2nd Grade Teacher   \n",
       "5   9c631442c4966cd3e5a9e52fc70aff1c                       2nd Pressman   \n",
       "6   f5a2151d370ebca7b49778e036a287e8      2 Year Olds Preschool Teacher   \n",
       "7   af2e31c2c64ae223b06eb7f0cbf59a98                        3D Animator   \n",
       "8   ac029293b0ea43f168b004c4f04fca31                          3D Artist   \n",
       "9   7d37dfe2eface4ae79db093b0a79385d                        3D Designer   \n",
       "10  6cb0a6786c08d6c91a4fc9f61e19f62d                         3D Modeler   \n",
       "11  ec45194ae348e1bb21415064364f038b                      3D Specialist   \n",
       "12  4266e89fcaf06973fa23fc6f75b27682                    3D Technologist   \n",
       "13  0cfb09fa1c6691fd6d77a3d3743fa8bc          3rd Grade Reading Teacher   \n",
       "14  ac668f6dc8795ace795b2c1f7c889ba4                  3rd Grade Teacher   \n",
       "15  7826ba3a7150817935915f63b861936b                       3rd Pressman   \n",
       "16  90bc1d89aaee33a96c1b70fef0750d62  411 Directory Assistance Operator   \n",
       "17  814eb6844cf824e6945fb02a48f0e569   4-H Youth Development Specialist   \n",
       "18  772053d8bb2c6e127b0bf216e50285ed             4th Grade Math Teacher   \n",
       "19  de0a3e90cdd112dd78120d4c8a9422b2                  4th Grade Teacher   \n",
       "20                               NaN                                NaN   \n",
       "\n",
       "                 normalized_job_title                       parent_uuid  \\\n",
       "0                   1st grade teacher  51cc95467c1844c7dc1d923265c023b2   \n",
       "1                        1st pressman  96f1cf15fe5880d8660c70f0756944ab   \n",
       "2           1st pressman on web press  96f1cf15fe5880d8660c70f0756944ab   \n",
       "3                           21 dealer  4be080220c824dcb435d59ebf1c3ce80   \n",
       "4                   2nd grade teacher  51cc95467c1844c7dc1d923265c023b2   \n",
       "5                        2nd pressman  96f1cf15fe5880d8660c70f0756944ab   \n",
       "6       2 year olds preschool teacher  d78b3ba8b749686d739480ee77f9e219   \n",
       "7                         3d animator  caa551520f21c7c220716a8f82806246   \n",
       "8                           3d artist  caa551520f21c7c220716a8f82806246   \n",
       "9                         3d designer  caa551520f21c7c220716a8f82806246   \n",
       "10                         3d modeler  caa551520f21c7c220716a8f82806246   \n",
       "11                      3d specialist  caa551520f21c7c220716a8f82806246   \n",
       "12                    3d technologist  ce1c0fc273d3c803e94a73ff0b54816e   \n",
       "13          3rd grade reading teacher  51cc95467c1844c7dc1d923265c023b2   \n",
       "14                  3rd grade teacher  51cc95467c1844c7dc1d923265c023b2   \n",
       "15                       3rd pressman  96f1cf15fe5880d8660c70f0756944ab   \n",
       "16  411 directory assistance operator  f0fc66d367f370fa64da4780019702cd   \n",
       "17    4h youth development specialist  1028b80a2ce2bfb940b2198f487c6abb   \n",
       "18             4th grade math teacher  51cc95467c1844c7dc1d923265c023b2   \n",
       "19                  4th grade teacher  51cc95467c1844c7dc1d923265c023b2   \n",
       "20                                NaN                               NaN   \n",
       "\n",
       "                                                links  \n",
       "0                                                 NaN  \n",
       "1                                                 NaN  \n",
       "2                                                 NaN  \n",
       "3                                                 NaN  \n",
       "4                                                 NaN  \n",
       "5                                                 NaN  \n",
       "6                                                 NaN  \n",
       "7                                                 NaN  \n",
       "8                                                 NaN  \n",
       "9                                                 NaN  \n",
       "10                                                NaN  \n",
       "11                                                NaN  \n",
       "12                                                NaN  \n",
       "13                                                NaN  \n",
       "14                                                NaN  \n",
       "15                                                NaN  \n",
       "16                                                NaN  \n",
       "17                                                NaN  \n",
       "18                                                NaN  \n",
       "19                                                NaN  \n",
       "20  [{'rel': 'self', 'href': '/jobs?offset=0&limit...  >"
      ]
     },
     "execution_count": 30,
     "metadata": {},
     "output_type": "execute_result"
    }
   ],
   "source": [
    "data = pd.DataFrame(json_data)\n",
    "data.info"
   ]
  },
  {
   "cell_type": "code",
   "execution_count": 6,
   "metadata": {},
   "outputs": [],
   "source": [
    "test = requests.get('http://api.dataatwork.org/v1/jobs?offset=50&limit=50')\n",
    "test_data = test.json()\n"
   ]
  },
  {
   "cell_type": "code",
   "execution_count": 23,
   "metadata": {},
   "outputs": [
    {
     "data": {
      "text/plain": [
       "'Automatic Data Processing Planner'"
      ]
     },
     "execution_count": 23,
     "metadata": {},
     "output_type": "execute_result"
    }
   ],
   "source": [
    "test_data['normalized_job_title'].title()"
   ]
  },
  {
   "cell_type": "code",
   "execution_count": null,
   "metadata": {},
   "outputs": [],
   "source": [
    "#8a7a3f1bce0958ae9f090683e5a925b7\n",
    "        "
   ]
  },
  {
   "cell_type": "code",
   "execution_count": 25,
   "metadata": {},
   "outputs": [],
   "source": [
    "#Defining jobs: x is for job-uuid\n",
    "\n",
    "def jobs_requests(x):\n",
    "    \n",
    "    if x != None:\n",
    "        url = \"http://api.dataatwork.org/v1/jobs/\" + x\n",
    "        jrequest = requests.get(url)\n",
    "        job_title_json = request.json()\n",
    "        job_title = job_title_json['normalized_job_title'].title()\n",
    "               \n",
    "        return job_title\n",
    "    \n",
    "    else:\n",
    "        pass"
   ]
  },
  {
   "cell_type": "code",
   "execution_count": null,
   "metadata": {},
   "outputs": [],
   "source": []
  },
  {
   "cell_type": "code",
   "execution_count": 40,
   "metadata": {},
   "outputs": [
    {
     "data": {
      "text/plain": [
       "21"
      ]
     },
     "execution_count": 40,
     "metadata": {},
     "output_type": "execute_result"
    }
   ],
   "source": [
    "url = 'http://api.dataatwork.org/v1/jobs'\n",
    "\n",
    "response = requests.get(url)\n",
    "all_jobs = response.json()\n",
    "df_jobs = pd.DataFrame(all_jobs)\n",
    "len(df_jobs.index)\n",
    "\n"
   ]
  },
  {
   "cell_type": "code",
   "execution_count": 41,
   "metadata": {},
   "outputs": [
    {
     "ename": "NameError",
     "evalue": "name 'df_all_row_data' is not defined",
     "output_type": "error",
     "traceback": [
      "\u001b[0;31m---------------------------------------------------------------------------\u001b[0m",
      "\u001b[0;31mNameError\u001b[0m                                 Traceback (most recent call last)",
      "\u001b[0;32m<ipython-input-41-f0c99ef2d2fb>\u001b[0m in \u001b[0;36m<module>\u001b[0;34m\u001b[0m\n\u001b[1;32m      1\u001b[0m \u001b[0mlist_apit\u001b[0m \u001b[0;34m=\u001b[0m \u001b[0;34m[\u001b[0m\u001b[0;34m]\u001b[0m\u001b[0;34m\u001b[0m\u001b[0;34m\u001b[0m\u001b[0m\n\u001b[1;32m      2\u001b[0m \u001b[0;34m\u001b[0m\u001b[0m\n\u001b[0;32m----> 3\u001b[0;31m \u001b[0;32mfor\u001b[0m \u001b[0mi\u001b[0m \u001b[0;32min\u001b[0m \u001b[0mdf_all_row_data\u001b[0m\u001b[0;34m[\u001b[0m\u001b[0;34m'normalized_job_title'\u001b[0m\u001b[0;34m]\u001b[0m\u001b[0;34m:\u001b[0m\u001b[0;34m\u001b[0m\u001b[0;34m\u001b[0m\u001b[0m\n\u001b[0m\u001b[1;32m      4\u001b[0m     \u001b[0murl\u001b[0m \u001b[0;34m=\u001b[0m \u001b[0;34mf'http://api.dataatwork.org/v1/jobs/{i}'\u001b[0m\u001b[0;34m\u001b[0m\u001b[0;34m\u001b[0m\u001b[0m\n\u001b[1;32m      5\u001b[0m     \u001b[0mresponse\u001b[0m \u001b[0;34m=\u001b[0m \u001b[0mrequests\u001b[0m\u001b[0;34m.\u001b[0m\u001b[0mget\u001b[0m\u001b[0;34m(\u001b[0m\u001b[0murl\u001b[0m\u001b[0;34m)\u001b[0m\u001b[0;34m\u001b[0m\u001b[0;34m\u001b[0m\u001b[0m\n",
      "\u001b[0;31mNameError\u001b[0m: name 'df_all_row_data' is not defined"
     ]
    }
   ],
   "source": [
    "list_apit = []\n",
    "\n",
    "for i in df_jobs['normalized_job_title']:\n",
    "    url = f'http://api.dataatwork.org/v1/jobs/{i}'\n",
    "    response = requests.get(url)\n",
    "    result_jobs = response.json()\n",
    "    list.append(result_jobs)\n",
    "\n",
    "print(list_apit)"
   ]
  },
  {
   "cell_type": "code",
   "execution_count": 6,
   "metadata": {},
   "outputs": [
    {
     "data": {
      "text/plain": [
       "17.91044776119403"
      ]
     },
     "execution_count": 6,
     "metadata": {},
     "output_type": "execute_result"
    }
   ],
   "source": [
    "12/67*100"
   ]
  },
  {
   "cell_type": "code",
   "execution_count": null,
   "metadata": {},
   "outputs": [],
   "source": []
  },
  {
   "cell_type": "code",
   "execution_count": null,
   "metadata": {},
   "outputs": [],
   "source": [
    "Data Analyst, Data Coordinator"
   ]
  }
 ],
 "metadata": {
  "kernelspec": {
   "display_name": "Python [conda env:lab_env]",
   "language": "python",
   "name": "conda-env-lab_env-py"
  },
  "language_info": {
   "codemirror_mode": {
    "name": "ipython",
    "version": 3
   },
   "file_extension": ".py",
   "mimetype": "text/x-python",
   "name": "python",
   "nbconvert_exporter": "python",
   "pygments_lexer": "ipython3",
   "version": "3.7.3"
  }
 },
 "nbformat": 4,
 "nbformat_minor": 4
}
